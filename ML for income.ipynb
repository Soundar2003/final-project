{
  "cells": [
    {
      "cell_type": "code",
      "execution_count": null,
      "metadata": {
        "id": "UVzAYo-cCERq"
      },
      "outputs": [],
      "source": [
        "import numpy as np\n",
        "import pandas as pd\n",
        "import matplotlib.pyplot as plt\n",
        "import warnings\n",
        "warnings.filterwarnings('ignore')\n",
        "from sklearn.preprocessing import StandardScaler, LabelEncoder\n",
        "from sklearn.model_selection import train_test_split\n",
        "from sklearn.ensemble import RandomForestClassifier\n",
        "from sklearn.neighbors import KNeighborsClassifier\n",
        "from sklearn.cluster import KMeans\n",
        "from sklearn.svm import SVC\n",
        "from sklearn.tree import DecisionTreeClassifier\n",
        "from sklearn import tree\n",
        "from sklearn.metrics import confusion_matrix\n",
        "%matplotlib inline\n",
        "import seaborn as sn"
      ]
    },
    {
      "cell_type": "code",
      "execution_count": null,
      "metadata": {
        "colab": {
          "base_uri": "https://localhost:8080/",
          "height": 399
        },
        "id": "ApXxUyorCERs",
        "outputId": "933e919d-4ac3-405e-ec42-a89508c99c41"
      },
      "outputs": [
        {
          "output_type": "execute_result",
          "data": {
            "text/plain": [
              "   age         workclass  fnlwgt  education  education-num  \\\n",
              "0   39         State-gov   77516  Bachelors             13   \n",
              "1   50  Self-emp-not-inc   83311  Bachelors             13   \n",
              "2   38           Private  215646    HS-grad              9   \n",
              "3   53           Private  234721       11th              7   \n",
              "4   28           Private  338409  Bachelors             13   \n",
              "\n",
              "       marital-status         occupation   relationship   race     sex  \\\n",
              "0       Never-married       Adm-clerical  Not-in-family  White    Male   \n",
              "1  Married-civ-spouse    Exec-managerial        Husband  White    Male   \n",
              "2            Divorced  Handlers-cleaners  Not-in-family  White    Male   \n",
              "3  Married-civ-spouse  Handlers-cleaners        Husband  Black    Male   \n",
              "4  Married-civ-spouse     Prof-specialty           Wife  Black  Female   \n",
              "\n",
              "   capital-gain  capital-loss  hours-per-week native-country income  \n",
              "0          2174             0              40  United-States  <=50K  \n",
              "1             0             0              13  United-States  <=50K  \n",
              "2             0             0              40  United-States  <=50K  \n",
              "3             0             0              40  United-States  <=50K  \n",
              "4             0             0              40           Cuba  <=50K  "
            ],
            "text/html": [
              "\n",
              "  <div id=\"df-488f2a59-6134-4d12-a31d-a2b15a34c3cc\" class=\"colab-df-container\">\n",
              "    <div>\n",
              "<style scoped>\n",
              "    .dataframe tbody tr th:only-of-type {\n",
              "        vertical-align: middle;\n",
              "    }\n",
              "\n",
              "    .dataframe tbody tr th {\n",
              "        vertical-align: top;\n",
              "    }\n",
              "\n",
              "    .dataframe thead th {\n",
              "        text-align: right;\n",
              "    }\n",
              "</style>\n",
              "<table border=\"1\" class=\"dataframe\">\n",
              "  <thead>\n",
              "    <tr style=\"text-align: right;\">\n",
              "      <th></th>\n",
              "      <th>age</th>\n",
              "      <th>workclass</th>\n",
              "      <th>fnlwgt</th>\n",
              "      <th>education</th>\n",
              "      <th>education-num</th>\n",
              "      <th>marital-status</th>\n",
              "      <th>occupation</th>\n",
              "      <th>relationship</th>\n",
              "      <th>race</th>\n",
              "      <th>sex</th>\n",
              "      <th>capital-gain</th>\n",
              "      <th>capital-loss</th>\n",
              "      <th>hours-per-week</th>\n",
              "      <th>native-country</th>\n",
              "      <th>income</th>\n",
              "    </tr>\n",
              "  </thead>\n",
              "  <tbody>\n",
              "    <tr>\n",
              "      <th>0</th>\n",
              "      <td>39</td>\n",
              "      <td>State-gov</td>\n",
              "      <td>77516</td>\n",
              "      <td>Bachelors</td>\n",
              "      <td>13</td>\n",
              "      <td>Never-married</td>\n",
              "      <td>Adm-clerical</td>\n",
              "      <td>Not-in-family</td>\n",
              "      <td>White</td>\n",
              "      <td>Male</td>\n",
              "      <td>2174</td>\n",
              "      <td>0</td>\n",
              "      <td>40</td>\n",
              "      <td>United-States</td>\n",
              "      <td>&lt;=50K</td>\n",
              "    </tr>\n",
              "    <tr>\n",
              "      <th>1</th>\n",
              "      <td>50</td>\n",
              "      <td>Self-emp-not-inc</td>\n",
              "      <td>83311</td>\n",
              "      <td>Bachelors</td>\n",
              "      <td>13</td>\n",
              "      <td>Married-civ-spouse</td>\n",
              "      <td>Exec-managerial</td>\n",
              "      <td>Husband</td>\n",
              "      <td>White</td>\n",
              "      <td>Male</td>\n",
              "      <td>0</td>\n",
              "      <td>0</td>\n",
              "      <td>13</td>\n",
              "      <td>United-States</td>\n",
              "      <td>&lt;=50K</td>\n",
              "    </tr>\n",
              "    <tr>\n",
              "      <th>2</th>\n",
              "      <td>38</td>\n",
              "      <td>Private</td>\n",
              "      <td>215646</td>\n",
              "      <td>HS-grad</td>\n",
              "      <td>9</td>\n",
              "      <td>Divorced</td>\n",
              "      <td>Handlers-cleaners</td>\n",
              "      <td>Not-in-family</td>\n",
              "      <td>White</td>\n",
              "      <td>Male</td>\n",
              "      <td>0</td>\n",
              "      <td>0</td>\n",
              "      <td>40</td>\n",
              "      <td>United-States</td>\n",
              "      <td>&lt;=50K</td>\n",
              "    </tr>\n",
              "    <tr>\n",
              "      <th>3</th>\n",
              "      <td>53</td>\n",
              "      <td>Private</td>\n",
              "      <td>234721</td>\n",
              "      <td>11th</td>\n",
              "      <td>7</td>\n",
              "      <td>Married-civ-spouse</td>\n",
              "      <td>Handlers-cleaners</td>\n",
              "      <td>Husband</td>\n",
              "      <td>Black</td>\n",
              "      <td>Male</td>\n",
              "      <td>0</td>\n",
              "      <td>0</td>\n",
              "      <td>40</td>\n",
              "      <td>United-States</td>\n",
              "      <td>&lt;=50K</td>\n",
              "    </tr>\n",
              "    <tr>\n",
              "      <th>4</th>\n",
              "      <td>28</td>\n",
              "      <td>Private</td>\n",
              "      <td>338409</td>\n",
              "      <td>Bachelors</td>\n",
              "      <td>13</td>\n",
              "      <td>Married-civ-spouse</td>\n",
              "      <td>Prof-specialty</td>\n",
              "      <td>Wife</td>\n",
              "      <td>Black</td>\n",
              "      <td>Female</td>\n",
              "      <td>0</td>\n",
              "      <td>0</td>\n",
              "      <td>40</td>\n",
              "      <td>Cuba</td>\n",
              "      <td>&lt;=50K</td>\n",
              "    </tr>\n",
              "  </tbody>\n",
              "</table>\n",
              "</div>\n",
              "    <div class=\"colab-df-buttons\">\n",
              "\n",
              "  <div class=\"colab-df-container\">\n",
              "    <button class=\"colab-df-convert\" onclick=\"convertToInteractive('df-488f2a59-6134-4d12-a31d-a2b15a34c3cc')\"\n",
              "            title=\"Convert this dataframe to an interactive table.\"\n",
              "            style=\"display:none;\">\n",
              "\n",
              "  <svg xmlns=\"http://www.w3.org/2000/svg\" height=\"24px\" viewBox=\"0 -960 960 960\">\n",
              "    <path d=\"M120-120v-720h720v720H120Zm60-500h600v-160H180v160Zm220 220h160v-160H400v160Zm0 220h160v-160H400v160ZM180-400h160v-160H180v160Zm440 0h160v-160H620v160ZM180-180h160v-160H180v160Zm440 0h160v-160H620v160Z\"/>\n",
              "  </svg>\n",
              "    </button>\n",
              "\n",
              "  <style>\n",
              "    .colab-df-container {\n",
              "      display:flex;\n",
              "      gap: 12px;\n",
              "    }\n",
              "\n",
              "    .colab-df-convert {\n",
              "      background-color: #E8F0FE;\n",
              "      border: none;\n",
              "      border-radius: 50%;\n",
              "      cursor: pointer;\n",
              "      display: none;\n",
              "      fill: #1967D2;\n",
              "      height: 32px;\n",
              "      padding: 0 0 0 0;\n",
              "      width: 32px;\n",
              "    }\n",
              "\n",
              "    .colab-df-convert:hover {\n",
              "      background-color: #E2EBFA;\n",
              "      box-shadow: 0px 1px 2px rgba(60, 64, 67, 0.3), 0px 1px 3px 1px rgba(60, 64, 67, 0.15);\n",
              "      fill: #174EA6;\n",
              "    }\n",
              "\n",
              "    .colab-df-buttons div {\n",
              "      margin-bottom: 4px;\n",
              "    }\n",
              "\n",
              "    [theme=dark] .colab-df-convert {\n",
              "      background-color: #3B4455;\n",
              "      fill: #D2E3FC;\n",
              "    }\n",
              "\n",
              "    [theme=dark] .colab-df-convert:hover {\n",
              "      background-color: #434B5C;\n",
              "      box-shadow: 0px 1px 3px 1px rgba(0, 0, 0, 0.15);\n",
              "      filter: drop-shadow(0px 1px 2px rgba(0, 0, 0, 0.3));\n",
              "      fill: #FFFFFF;\n",
              "    }\n",
              "  </style>\n",
              "\n",
              "    <script>\n",
              "      const buttonEl =\n",
              "        document.querySelector('#df-488f2a59-6134-4d12-a31d-a2b15a34c3cc button.colab-df-convert');\n",
              "      buttonEl.style.display =\n",
              "        google.colab.kernel.accessAllowed ? 'block' : 'none';\n",
              "\n",
              "      async function convertToInteractive(key) {\n",
              "        const element = document.querySelector('#df-488f2a59-6134-4d12-a31d-a2b15a34c3cc');\n",
              "        const dataTable =\n",
              "          await google.colab.kernel.invokeFunction('convertToInteractive',\n",
              "                                                    [key], {});\n",
              "        if (!dataTable) return;\n",
              "\n",
              "        const docLinkHtml = 'Like what you see? Visit the ' +\n",
              "          '<a target=\"_blank\" href=https://colab.research.google.com/notebooks/data_table.ipynb>data table notebook</a>'\n",
              "          + ' to learn more about interactive tables.';\n",
              "        element.innerHTML = '';\n",
              "        dataTable['output_type'] = 'display_data';\n",
              "        await google.colab.output.renderOutput(dataTable, element);\n",
              "        const docLink = document.createElement('div');\n",
              "        docLink.innerHTML = docLinkHtml;\n",
              "        element.appendChild(docLink);\n",
              "      }\n",
              "    </script>\n",
              "  </div>\n",
              "\n",
              "\n",
              "<div id=\"df-d4310c22-af06-4738-b13b-d4eb410a8b44\">\n",
              "  <button class=\"colab-df-quickchart\" onclick=\"quickchart('df-d4310c22-af06-4738-b13b-d4eb410a8b44')\"\n",
              "            title=\"Suggest charts\"\n",
              "            style=\"display:none;\">\n",
              "\n",
              "<svg xmlns=\"http://www.w3.org/2000/svg\" height=\"24px\"viewBox=\"0 0 24 24\"\n",
              "     width=\"24px\">\n",
              "    <g>\n",
              "        <path d=\"M19 3H5c-1.1 0-2 .9-2 2v14c0 1.1.9 2 2 2h14c1.1 0 2-.9 2-2V5c0-1.1-.9-2-2-2zM9 17H7v-7h2v7zm4 0h-2V7h2v10zm4 0h-2v-4h2v4z\"/>\n",
              "    </g>\n",
              "</svg>\n",
              "  </button>\n",
              "\n",
              "<style>\n",
              "  .colab-df-quickchart {\n",
              "      --bg-color: #E8F0FE;\n",
              "      --fill-color: #1967D2;\n",
              "      --hover-bg-color: #E2EBFA;\n",
              "      --hover-fill-color: #174EA6;\n",
              "      --disabled-fill-color: #AAA;\n",
              "      --disabled-bg-color: #DDD;\n",
              "  }\n",
              "\n",
              "  [theme=dark] .colab-df-quickchart {\n",
              "      --bg-color: #3B4455;\n",
              "      --fill-color: #D2E3FC;\n",
              "      --hover-bg-color: #434B5C;\n",
              "      --hover-fill-color: #FFFFFF;\n",
              "      --disabled-bg-color: #3B4455;\n",
              "      --disabled-fill-color: #666;\n",
              "  }\n",
              "\n",
              "  .colab-df-quickchart {\n",
              "    background-color: var(--bg-color);\n",
              "    border: none;\n",
              "    border-radius: 50%;\n",
              "    cursor: pointer;\n",
              "    display: none;\n",
              "    fill: var(--fill-color);\n",
              "    height: 32px;\n",
              "    padding: 0;\n",
              "    width: 32px;\n",
              "  }\n",
              "\n",
              "  .colab-df-quickchart:hover {\n",
              "    background-color: var(--hover-bg-color);\n",
              "    box-shadow: 0 1px 2px rgba(60, 64, 67, 0.3), 0 1px 3px 1px rgba(60, 64, 67, 0.15);\n",
              "    fill: var(--button-hover-fill-color);\n",
              "  }\n",
              "\n",
              "  .colab-df-quickchart-complete:disabled,\n",
              "  .colab-df-quickchart-complete:disabled:hover {\n",
              "    background-color: var(--disabled-bg-color);\n",
              "    fill: var(--disabled-fill-color);\n",
              "    box-shadow: none;\n",
              "  }\n",
              "\n",
              "  .colab-df-spinner {\n",
              "    border: 2px solid var(--fill-color);\n",
              "    border-color: transparent;\n",
              "    border-bottom-color: var(--fill-color);\n",
              "    animation:\n",
              "      spin 1s steps(1) infinite;\n",
              "  }\n",
              "\n",
              "  @keyframes spin {\n",
              "    0% {\n",
              "      border-color: transparent;\n",
              "      border-bottom-color: var(--fill-color);\n",
              "      border-left-color: var(--fill-color);\n",
              "    }\n",
              "    20% {\n",
              "      border-color: transparent;\n",
              "      border-left-color: var(--fill-color);\n",
              "      border-top-color: var(--fill-color);\n",
              "    }\n",
              "    30% {\n",
              "      border-color: transparent;\n",
              "      border-left-color: var(--fill-color);\n",
              "      border-top-color: var(--fill-color);\n",
              "      border-right-color: var(--fill-color);\n",
              "    }\n",
              "    40% {\n",
              "      border-color: transparent;\n",
              "      border-right-color: var(--fill-color);\n",
              "      border-top-color: var(--fill-color);\n",
              "    }\n",
              "    60% {\n",
              "      border-color: transparent;\n",
              "      border-right-color: var(--fill-color);\n",
              "    }\n",
              "    80% {\n",
              "      border-color: transparent;\n",
              "      border-right-color: var(--fill-color);\n",
              "      border-bottom-color: var(--fill-color);\n",
              "    }\n",
              "    90% {\n",
              "      border-color: transparent;\n",
              "      border-bottom-color: var(--fill-color);\n",
              "    }\n",
              "  }\n",
              "</style>\n",
              "\n",
              "  <script>\n",
              "    async function quickchart(key) {\n",
              "      const quickchartButtonEl =\n",
              "        document.querySelector('#' + key + ' button');\n",
              "      quickchartButtonEl.disabled = true;  // To prevent multiple clicks.\n",
              "      quickchartButtonEl.classList.add('colab-df-spinner');\n",
              "      try {\n",
              "        const charts = await google.colab.kernel.invokeFunction(\n",
              "            'suggestCharts', [key], {});\n",
              "      } catch (error) {\n",
              "        console.error('Error during call to suggestCharts:', error);\n",
              "      }\n",
              "      quickchartButtonEl.classList.remove('colab-df-spinner');\n",
              "      quickchartButtonEl.classList.add('colab-df-quickchart-complete');\n",
              "    }\n",
              "    (() => {\n",
              "      let quickchartButtonEl =\n",
              "        document.querySelector('#df-d4310c22-af06-4738-b13b-d4eb410a8b44 button');\n",
              "      quickchartButtonEl.style.display =\n",
              "        google.colab.kernel.accessAllowed ? 'block' : 'none';\n",
              "    })();\n",
              "  </script>\n",
              "</div>\n",
              "\n",
              "    </div>\n",
              "  </div>\n"
            ]
          },
          "metadata": {},
          "execution_count": 4
        }
      ],
      "source": [
        "df=pd.read_csv(r'/content/customerdata.csv')\n",
        "df.head()"
      ]
    },
    {
      "cell_type": "markdown",
      "metadata": {
        "id": "az7ZY4mWCERt"
      },
      "source": [
        "# data preprocessing"
      ]
    },
    {
      "cell_type": "code",
      "execution_count": null,
      "metadata": {
        "colab": {
          "base_uri": "https://localhost:8080/"
        },
        "id": "g0jkLa9fCERv",
        "outputId": "7622d668-33f8-4ed5-d395-f70b70bf3a64"
      },
      "outputs": [
        {
          "output_type": "execute_result",
          "data": {
            "text/plain": [
              "workclass         1.971664\n",
              "occupation        1.977806\n",
              "native-country    0.560993\n",
              "dtype: float64"
            ]
          },
          "metadata": {},
          "execution_count": 5
        }
      ],
      "source": [
        "null_percent = df.isnull().sum()/len(df)\n",
        "null_percent = null_percent[null_percent !=0] * 100\n",
        "null_percent"
      ]
    },
    {
      "cell_type": "code",
      "execution_count": null,
      "metadata": {
        "id": "Eea1jdAoCERv"
      },
      "outputs": [],
      "source": [
        "x=df[['age', 'workclass', 'fnlwgt', 'education', 'education-num',\n",
        "       'marital-status', 'occupation', 'relationship', 'race', 'sex',\n",
        "       'capital-gain', 'capital-loss', 'hours-per-week', 'native-country']]\n",
        "y=df[['income']]"
      ]
    },
    {
      "cell_type": "code",
      "execution_count": null,
      "metadata": {
        "id": "En3rXFsUCERv"
      },
      "outputs": [],
      "source": [
        "#change ? as null values\n",
        "x.replace('?', pd.NA, inplace=True)"
      ]
    },
    {
      "cell_type": "code",
      "execution_count": null,
      "metadata": {
        "colab": {
          "base_uri": "https://localhost:8080/"
        },
        "id": "OJYQtdQ_CERw",
        "outputId": "12c97dda-786b-409a-bb27-af1bc3f5440f"
      },
      "outputs": [
        {
          "output_type": "execute_result",
          "data": {
            "text/plain": [
              "(48842, 14)"
            ]
          },
          "metadata": {},
          "execution_count": 8
        }
      ],
      "source": [
        "x.shape"
      ]
    },
    {
      "cell_type": "code",
      "execution_count": null,
      "metadata": {
        "colab": {
          "base_uri": "https://localhost:8080/"
        },
        "id": "AIXX6PuRCERw",
        "outputId": "59b74ffc-841a-4369-eefb-5c57f49b7687"
      },
      "outputs": [
        {
          "output_type": "execute_result",
          "data": {
            "text/plain": [
              "age                  0\n",
              "workclass         2799\n",
              "fnlwgt               0\n",
              "education            0\n",
              "education-num        0\n",
              "marital-status       0\n",
              "occupation        2809\n",
              "relationship         0\n",
              "race                 0\n",
              "sex                  0\n",
              "capital-gain         0\n",
              "capital-loss         0\n",
              "hours-per-week       0\n",
              "native-country     857\n",
              "dtype: int64"
            ]
          },
          "metadata": {},
          "execution_count": 9
        }
      ],
      "source": [
        "x.isnull().sum()"
      ]
    },
    {
      "cell_type": "code",
      "execution_count": null,
      "metadata": {
        "colab": {
          "base_uri": "https://localhost:8080/"
        },
        "id": "o4_-ZMGZCERw",
        "outputId": "eeb9219a-f831-4c32-b460-a1744a066584"
      },
      "outputs": [
        {
          "output_type": "execute_result",
          "data": {
            "text/plain": [
              "workclass         5.730724\n",
              "occupation        5.751198\n",
              "native-country    1.754637\n",
              "dtype: float64"
            ]
          },
          "metadata": {},
          "execution_count": 10
        }
      ],
      "source": [
        "null_percent = x.isnull().sum()/len(df)\n",
        "null_percent = null_percent[null_percent !=0] * 100\n",
        "null_percent"
      ]
    },
    {
      "cell_type": "code",
      "execution_count": null,
      "metadata": {
        "id": "_frvhmOSCERx"
      },
      "outputs": [],
      "source": [
        "#drop null values in x and y\n",
        "x = x.dropna()\n",
        "y = y.iloc[list(x.index.values), :]"
      ]
    },
    {
      "cell_type": "code",
      "execution_count": null,
      "metadata": {
        "colab": {
          "base_uri": "https://localhost:8080/"
        },
        "id": "0H_a_b6-CERx",
        "outputId": "866d833d-0f9d-4003-b317-69854798b4af"
      },
      "outputs": [
        {
          "output_type": "execute_result",
          "data": {
            "text/plain": [
              "array(['Bachelors', 'HS-grad', '11th', 'Masters', '9th', 'Some-college',\n",
              "       'Assoc-acdm', '7th-8th', 'Doctorate', 'Assoc-voc', 'Prof-school',\n",
              "       '5th-6th', '10th', 'Preschool', '12th', '1st-4th'], dtype=object)"
            ]
          },
          "metadata": {},
          "execution_count": 12
        }
      ],
      "source": [
        "x['education'].unique()"
      ]
    },
    {
      "cell_type": "code",
      "execution_count": null,
      "metadata": {
        "id": "LlWpwmCZCERx"
      },
      "outputs": [],
      "source": [
        "x[\"education\"].replace(\"Preschool\", \"Not-HS-grad\", inplace=True)\n",
        "x[\"education\"].replace(\"1st-4th\", \"Not-HS-grad\", inplace=True)\n",
        "x[\"education\"].replace(\"5th-6th\", \"Not-HS-grad\", inplace=True)\n",
        "x[\"education\"].replace(\"7th-8th\", \"Not-HS-grad\", inplace=True)\n",
        "x[\"education\"].replace(\"9th\", \"Not-HS-grad\", inplace=True)\n",
        "x[\"education\"].replace(\"10th\", \"Not-HS-grad\", inplace=True)\n",
        "x[\"education\"].replace(\"11th\", \"Not-HS-grad\", inplace=True)\n",
        "x[\"education\"].replace(\"12th\", \"Not-HS-grad\", inplace=True)\n",
        "x[\"education\"].replace(\"Assoc-acdm\", \"Some-college\", inplace=True)\n",
        "x[\"education\"].replace(\"Assoc-voc\", \"Some-college\", inplace=True)"
      ]
    },
    {
      "cell_type": "code",
      "execution_count": null,
      "metadata": {
        "colab": {
          "base_uri": "https://localhost:8080/"
        },
        "id": "eIcD2eu8CERx",
        "outputId": "0d7ee52c-7dfc-41f8-c7fd-5944f41e62d7"
      },
      "outputs": [
        {
          "output_type": "execute_result",
          "data": {
            "text/plain": [
              "array(['Bachelors', 'HS-grad', 'Not-HS-grad', 'Masters', 'Some-college',\n",
              "       'Doctorate', 'Prof-school'], dtype=object)"
            ]
          },
          "metadata": {},
          "execution_count": 14
        }
      ],
      "source": [
        "x['education'].unique()"
      ]
    },
    {
      "cell_type": "code",
      "execution_count": null,
      "metadata": {
        "colab": {
          "base_uri": "https://localhost:8080/"
        },
        "id": "sBKbPmaDCERx",
        "outputId": "b9e9a084-f117-4621-abed-675ed52b1ea3"
      },
      "outputs": [
        {
          "output_type": "execute_result",
          "data": {
            "text/plain": [
              "array(['Never-married', 'Married-civ-spouse', 'Divorced',\n",
              "       'Married-spouse-absent', 'Separated', 'Married-AF-spouse',\n",
              "       'Widowed'], dtype=object)"
            ]
          },
          "metadata": {},
          "execution_count": 15
        }
      ],
      "source": [
        "x['marital-status'].unique()"
      ]
    },
    {
      "cell_type": "code",
      "execution_count": null,
      "metadata": {
        "id": "X2frLWN_CERx"
      },
      "outputs": [],
      "source": [
        "x[\"marital-status\"].replace(\"Married-civ-spouse\", \"Married\", inplace=True)\n",
        "x[\"marital-status\"].replace(\"Married-AF-spouse\", \"Married\", inplace=True)\n",
        "x[\"marital-status\"].replace(\"Divorced\", \"Separated\", inplace=True)"
      ]
    },
    {
      "cell_type": "code",
      "execution_count": null,
      "metadata": {
        "colab": {
          "base_uri": "https://localhost:8080/"
        },
        "id": "WMLLeBpbCERy",
        "outputId": "fdbc38eb-944a-46db-98f4-5eff65273802"
      },
      "outputs": [
        {
          "output_type": "execute_result",
          "data": {
            "text/plain": [
              "array(['Never-married', 'Married', 'Separated', 'Married-spouse-absent',\n",
              "       'Widowed'], dtype=object)"
            ]
          },
          "metadata": {},
          "execution_count": 17
        }
      ],
      "source": [
        "x['marital-status'].unique()"
      ]
    },
    {
      "cell_type": "markdown",
      "metadata": {
        "id": "ViYvowdMCERy"
      },
      "source": [
        "# encoding"
      ]
    },
    {
      "cell_type": "code",
      "execution_count": null,
      "metadata": {
        "colab": {
          "base_uri": "https://localhost:8080/"
        },
        "id": "sBMcfZQeCERy",
        "outputId": "d2167532-a0f5-4595-d565-8cf623f4bc55"
      },
      "outputs": [
        {
          "output_type": "execute_result",
          "data": {
            "text/plain": [
              "<=50K     22654\n",
              "<=50K.    11360\n",
              ">50K       7508\n",
              ">50K.      3700\n",
              "Name: income, dtype: int64"
            ]
          },
          "metadata": {},
          "execution_count": 18
        }
      ],
      "source": [
        "y['income'].value_counts()"
      ]
    },
    {
      "cell_type": "code",
      "execution_count": null,
      "metadata": {
        "id": "9oXffU3DCERy"
      },
      "outputs": [],
      "source": [
        "income_mapping={\">50K\":1, \"<=50K\":0,\">50K.\":1, \"<=50K.\":0}\n",
        "y['income']=y[\"income\"].replace(income_mapping)"
      ]
    },
    {
      "cell_type": "code",
      "execution_count": null,
      "metadata": {
        "colab": {
          "base_uri": "https://localhost:8080/"
        },
        "id": "dDXnBmyACERy",
        "outputId": "06c7e252-05fd-4f7a-89a9-fa629a15b3b6"
      },
      "outputs": [
        {
          "output_type": "execute_result",
          "data": {
            "text/plain": [
              "0    34014\n",
              "1    11208\n",
              "Name: income, dtype: int64"
            ]
          },
          "metadata": {},
          "execution_count": 20
        }
      ],
      "source": [
        "y['income'].value_counts()"
      ]
    },
    {
      "cell_type": "code",
      "execution_count": null,
      "metadata": {
        "id": "ei_6C_i0CERy"
      },
      "outputs": [],
      "source": [
        "x_0 = x.copy()\n",
        "x_0 = x_0.apply(LabelEncoder().fit_transform)"
      ]
    },
    {
      "cell_type": "markdown",
      "metadata": {
        "id": "IwR8mgDaCERy"
      },
      "source": [
        "# train test split"
      ]
    },
    {
      "cell_type": "code",
      "execution_count": null,
      "metadata": {
        "id": "gYsAuMwGCERy"
      },
      "outputs": [],
      "source": [
        "X_train, X_test, y_train, y_test = train_test_split(x_0, y, test_size=0.2,)"
      ]
    },
    {
      "cell_type": "markdown",
      "metadata": {
        "id": "1n2PvpkKCERz"
      },
      "source": [
        "# Decison Tree"
      ]
    },
    {
      "cell_type": "code",
      "execution_count": null,
      "metadata": {
        "id": "G0wVxLU6CERz"
      },
      "outputs": [],
      "source": [
        "dct = DecisionTreeClassifier(max_depth=10)\n",
        "model1 = dct.fit(X_train,y_train)\n",
        "preds1 = model1.predict(X_test)"
      ]
    },
    {
      "cell_type": "code",
      "execution_count": null,
      "metadata": {
        "colab": {
          "base_uri": "https://localhost:8080/"
        },
        "id": "FCqO_4dICERz",
        "outputId": "1962acac-dcb0-423e-f3f0-bbcaa0262e41"
      },
      "outputs": [
        {
          "output_type": "execute_result",
          "data": {
            "text/plain": [
              "0.847761"
            ]
          },
          "metadata": {},
          "execution_count": 24
        }
      ],
      "source": [
        "round(dct.score(X_test,y_test),6)"
      ]
    },
    {
      "cell_type": "code",
      "execution_count": null,
      "metadata": {
        "colab": {
          "base_uri": "https://localhost:8080/"
        },
        "id": "HMBoRc-7CER0",
        "outputId": "4f165f27-a00c-4d2f-cef2-6a21a1314a88"
      },
      "outputs": [
        {
          "output_type": "execute_result",
          "data": {
            "text/plain": [
              "array([[6212,  621],\n",
              "       [ 756, 1456]])"
            ]
          },
          "metadata": {},
          "execution_count": 25
        }
      ],
      "source": [
        "cm = confusion_matrix(y_test,preds1)\n",
        "cm"
      ]
    },
    {
      "cell_type": "code",
      "execution_count": null,
      "metadata": {
        "colab": {
          "base_uri": "https://localhost:8080/",
          "height": 482
        },
        "id": "82m0RGV-CER0",
        "outputId": "63f01f2e-85e0-4b51-deec-937c63f69da0"
      },
      "outputs": [
        {
          "output_type": "execute_result",
          "data": {
            "text/plain": [
              "Text(58.222222222222214, 0.5, 'Truth')"
            ]
          },
          "metadata": {},
          "execution_count": 26
        },
        {
          "output_type": "display_data",
          "data": {
            "text/plain": [
              "<Figure size 700x500 with 2 Axes>"
            ],
            "image/png": "[encoded data removed]"
          },
          "metadata": {}
        }
      ],
      "source": [
        "plt.figure(figsize=(7,5))\n",
        "sn.heatmap(cm, annot=True)\n",
        "plt.xlabel('Predicted')\n",
        "plt.ylabel('Truth')"
      ]
    },
    {
      "cell_type": "code",
      "execution_count": null,
      "metadata": {
        "colab": {
          "base_uri": "https://localhost:8080/",
          "height": 1000
        },
        "id": "8Lq0plpKCER1",
        "outputId": "1bb78793-3096-4546-aecd-f75fca94e5e0"
      },
      "outputs": [
        {
          "output_type": "execute_result",
          "data": {
            "text/plain": [
              "[Text(0.6263089484475688, 0.9545454545454546, 'x[5] <= 0.5\\ngini = 0.374\\nsamples = 36177\\nvalue = [27181, 8996]'),\n",
              " Text(0.3631370826010545, 0.8636363636363636, 'x[4] <= 10.5\\ngini = 0.496\\nsamples = 16879\\nvalue = [9203, 7676]'),\n",
              " Text(0.23520796719390744, 0.7727272727272727, 'x[10] <= 79.0\\ngini = 0.442\\nsamples = 11343\\nvalue = [7596, 3747]'),\n",
              " Text(0.15582893966022263, 0.6818181818181818, 'x[4] <= 7.5\\ngini = 0.418\\nsamples = 10794\\nvalue = [7583, 3211]'),\n",
              " Text(0.070298769771529, 0.5909090909090909, 'x[12] <= 42.5\\ngini = 0.192\\nsamples = 1835\\nvalue = [1638, 197]'),\n",
              " Text(0.04452255418863503, 0.5, 'x[0] <= 20.5\\ngini = 0.144\\nsamples = 1380\\nvalue = [1272, 108]'),\n",
              " Text(0.026362038664323375, 0.4090909090909091, 'x[6] <= 11.5\\ngini = 0.069\\nsamples = 474\\nvalue = [457, 17]'),\n",
              " Text(0.012888107791446984, 0.3181818181818182, 'x[6] <= 2.5\\ngini = 0.053\\nsamples = 437\\nvalue = [425, 12]'),\n",
              " Text(0.0046865846514352666, 0.22727272727272727, 'x[8] <= 1.5\\ngini = 0.107\\nsamples = 159\\nvalue = [150, 9]'),\n",
              " Text(0.0023432923257176333, 0.13636363636363635, 'gini = 0.0\\nsamples = 1\\nvalue = [0, 1]'),\n",
              " Text(0.007029876977152899, 0.13636363636363635, 'x[11] <= 45.5\\ngini = 0.096\\nsamples = 158\\nvalue = [150, 8]'),\n",
              " Text(0.0046865846514352666, 0.045454545454545456, 'gini = 0.086\\nsamples = 155\\nvalue = [148, 7]'),\n",
              " Text(0.009373169302870533, 0.045454545454545456, 'gini = 0.444\\nsamples = 3\\nvalue = [2, 1]'),\n",
              " Text(0.0210896309314587, 0.22727272727272727, 'x[13] <= 24.5\\ngini = 0.021\\nsamples = 278\\nvalue = [275, 3]'),\n",
              " Text(0.016403046280023433, 0.13636363636363635, 'x[13] <= 22.5\\ngini = 0.198\\nsamples = 18\\nvalue = [16, 2]'),\n",
              " Text(0.014059753954305799, 0.045454545454545456, 'gini = 0.111\\nsamples = 17\\nvalue = [16, 1]'),\n",
              " Text(0.018746338605741066, 0.045454545454545456, 'gini = 0.0\\nsamples = 1\\nvalue = [0, 1]'),\n",
              " Text(0.025776215582893967, 0.13636363636363635, 'x[6] <= 10.5\\ngini = 0.008\\nsamples = 260\\nvalue = [259, 1]'),\n",
              " Text(0.023432923257176334, 0.045454545454545456, 'gini = 0.0\\nsamples = 245\\nvalue = [245, 0]'),\n",
              " Text(0.028119507908611598, 0.045454545454545456, 'gini = 0.124\\nsamples = 15\\nvalue = [14, 1]'),\n",
              " Text(0.03983596953719976, 0.3181818181818182, 'x[7] <= 3.5\\ngini = 0.234\\nsamples = 37\\nvalue = [32, 5]'),\n",
              " Text(0.03749267721148213, 0.22727272727272727, 'x[11] <= 25.5\\ngini = 0.198\\nsamples = 36\\nvalue = [32, 4]'),\n",
              " Text(0.0351493848857645, 0.13636363636363635, 'x[2] <= 8002.0\\ngini = 0.157\\nsamples = 35\\nvalue = [32, 3]'),\n",
              " Text(0.032806092560046865, 0.045454545454545456, 'gini = 0.346\\nsamples = 9\\nvalue = [7, 2]'),\n",
              " Text(0.03749267721148213, 0.045454545454545456, 'gini = 0.074\\nsamples = 26\\nvalue = [25, 1]'),\n",
              " Text(0.03983596953719976, 0.13636363636363635, 'gini = 0.0\\nsamples = 1\\nvalue = [0, 1]'),\n",
              " Text(0.0421792618629174, 0.22727272727272727, 'gini = 0.0\\nsamples = 1\\nvalue = [0, 1]'),\n",
              " Text(0.0626830697129467, 0.4090909090909091, 'x[4] <= 4.5\\ngini = 0.181\\nsamples = 906\\nvalue = [815, 91]'),\n",
              " Text(0.051552431165787935, 0.3181818181818182, 'x[13] <= 39.5\\ngini = 0.116\\nsamples = 503\\nvalue = [472, 31]'),\n",
              " Text(0.0492091388400703, 0.22727272727272727, 'x[2] <= 26324.0\\ngini = 0.112\\nsamples = 502\\nvalue = [472, 30]'),\n",
              " Text(0.04452255418863503, 0.13636363636363635, 'x[2] <= 833.5\\ngini = 0.107\\nsamples = 496\\nvalue = [468, 28]'),\n",
              " Text(0.0421792618629174, 0.045454545454545456, 'gini = 0.375\\nsamples = 12\\nvalue = [9, 3]'),\n",
              " Text(0.04686584651435267, 0.045454545454545456, 'gini = 0.098\\nsamples = 484\\nvalue = [459, 25]'),\n",
              " Text(0.053895723491505565, 0.13636363636363635, 'x[0] <= 35.0\\ngini = 0.444\\nsamples = 6\\nvalue = [4, 2]'),\n",
              " Text(0.051552431165787935, 0.045454545454545456, 'gini = 0.0\\nsamples = 4\\nvalue = [4, 0]'),\n",
              " Text(0.056239015817223195, 0.045454545454545456, 'gini = 0.0\\nsamples = 2\\nvalue = [0, 2]'),\n",
              " Text(0.053895723491505565, 0.22727272727272727, 'gini = 0.0\\nsamples = 1\\nvalue = [0, 1]'),\n",
              " Text(0.07381370826010544, 0.3181818181818182, 'x[11] <= 42.5\\ngini = 0.253\\nsamples = 403\\nvalue = [343, 60]'),\n",
              " Text(0.06795547744581136, 0.22727272727272727, 'x[2] <= 24689.5\\ngini = 0.24\\nsamples = 394\\nvalue = [339, 55]'),\n",
              " Text(0.0632688927943761, 0.13636363636363635, 'x[10] <= 68.0\\ngini = 0.221\\nsamples = 372\\nvalue = [325, 47]'),\n",
              " Text(0.06092560046865846, 0.045454545454545456, 'gini = 0.214\\nsamples = 369\\nvalue = [324, 45]'),\n",
              " Text(0.06561218512009373, 0.045454545454545456, 'gini = 0.444\\nsamples = 3\\nvalue = [1, 2]'),\n",
              " Text(0.07264206209724663, 0.13636363636363635, 'x[2] <= 25940.0\\ngini = 0.463\\nsamples = 22\\nvalue = [14, 8]'),\n",
              " Text(0.070298769771529, 0.045454545454545456, 'gini = 0.497\\nsamples = 13\\nvalue = [6, 7]'),\n",
              " Text(0.07498535442296426, 0.045454545454545456, 'gini = 0.198\\nsamples = 9\\nvalue = [8, 1]'),\n",
              " Text(0.07967193907439953, 0.22727272727272727, 'x[11] <= 55.0\\ngini = 0.494\\nsamples = 9\\nvalue = [4, 5]'),\n",
              " Text(0.0773286467486819, 0.13636363636363635, 'gini = 0.0\\nsamples = 5\\nvalue = [0, 5]'),\n",
              " Text(0.08201523140011717, 0.13636363636363635, 'gini = 0.0\\nsamples = 4\\nvalue = [4, 0]'),\n",
              " Text(0.09607498535442296, 0.5, 'x[0] <= 26.5\\ngini = 0.315\\nsamples = 455\\nvalue = [366, 89]'),\n",
              " Text(0.08670181605155243, 0.4090909090909091, 'x[1] <= 0.5\\ngini = 0.237\\nsamples = 218\\nvalue = [188, 30]'),\n",
              " Text(0.0843585237258348, 0.3181818181818182, 'gini = 0.0\\nsamples = 1\\nvalue = [0, 1]'),\n",
              " Text(0.08904510837727006, 0.3181818181818182, 'x[13] <= 1.5\\ngini = 0.232\\nsamples = 217\\nvalue = [188, 29]'),\n",
              " Text(0.08670181605155243, 0.22727272727272727, 'gini = 0.0\\nsamples = 1\\nvalue = [0, 1]'),\n",
              " Text(0.0913884007029877, 0.22727272727272727, 'x[2] <= 6239.5\\ngini = 0.226\\nsamples = 216\\nvalue = [188, 28]'),\n",
              " Text(0.08670181605155243, 0.13636363636363635, 'x[2] <= 4953.0\\ngini = 0.335\\nsamples = 47\\nvalue = [37, 10]'),\n",
              " Text(0.0843585237258348, 0.045454545454545456, 'gini = 0.198\\nsamples = 36\\nvalue = [32, 4]'),\n",
              " Text(0.08904510837727006, 0.045454545454545456, 'gini = 0.496\\nsamples = 11\\nvalue = [5, 6]'),\n",
              " Text(0.09607498535442296, 0.13636363636363635, 'x[2] <= 25101.0\\ngini = 0.19\\nsamples = 169\\nvalue = [151, 18]'),\n",
              " Text(0.09373169302870533, 0.045454545454545456, 'gini = 0.158\\nsamples = 150\\nvalue = [137, 13]'),\n",
              " Text(0.0984182776801406, 0.045454545454545456, 'gini = 0.388\\nsamples = 19\\nvalue = [14, 5]'),\n",
              " Text(0.1054481546572935, 0.4090909090909091, 'x[12] <= 43.5\\ngini = 0.374\\nsamples = 237\\nvalue = [178, 59]'),\n",
              " Text(0.0984182776801406, 0.3181818181818182, 'x[4] <= 2.5\\ngini = 0.375\\nsamples = 4\\nvalue = [1, 3]'),\n",
              " Text(0.09607498535442296, 0.22727272727272727, 'gini = 0.0\\nsamples = 1\\nvalue = [1, 0]'),\n",
              " Text(0.10076157000585823, 0.22727272727272727, 'gini = 0.0\\nsamples = 3\\nvalue = [0, 3]'),\n",
              " Text(0.11247803163444639, 0.3181818181818182, 'x[12] <= 52.5\\ngini = 0.365\\nsamples = 233\\nvalue = [177, 56]'),\n",
              " Text(0.1054481546572935, 0.22727272727272727, 'x[2] <= 703.0\\ngini = 0.31\\nsamples = 141\\nvalue = [114, 27]'),\n",
              " Text(0.10310486233157587, 0.13636363636363635, 'gini = 0.0\\nsamples = 2\\nvalue = [0, 2]'),\n",
              " Text(0.10779144698301113, 0.13636363636363635, 'x[2] <= 21004.0\\ngini = 0.295\\nsamples = 139\\nvalue = [114, 25]'),\n",
              " Text(0.1054481546572935, 0.045454545454545456, 'gini = 0.328\\nsamples = 121\\nvalue = [96, 25]'),\n",
              " Text(0.11013473930872876, 0.045454545454545456, 'gini = 0.0\\nsamples = 18\\nvalue = [18, 0]'),\n",
              " Text(0.1195079086115993, 0.22727272727272727, 'x[11] <= 42.5\\ngini = 0.432\\nsamples = 92\\nvalue = [63, 29]'),\n",
              " Text(0.11716461628588166, 0.13636363636363635, 'x[0] <= 53.0\\ngini = 0.42\\nsamples = 90\\nvalue = [63, 27]'),\n",
              " Text(0.11482132396016403, 0.045454545454545456, 'gini = 0.407\\nsamples = 88\\nvalue = [63, 25]'),\n",
              " Text(0.1195079086115993, 0.045454545454545456, 'gini = 0.0\\nsamples = 2\\nvalue = [0, 2]'),\n",
              " Text(0.12185120093731693, 0.13636363636363635, 'gini = 0.0\\nsamples = 2\\nvalue = [0, 2]'),\n",
              " Text(0.24135910954891623, 0.5909090909090909, 'x[11] <= 46.5\\ngini = 0.446\\nsamples = 8959\\nvalue = [5945, 3014]'),\n",
              " Text(0.1968365553602812, 0.5, 'x[0] <= 18.5\\ngini = 0.434\\nsamples = 8604\\nvalue = [5864, 2740]'),\n",
              " Text(0.15934387814879905, 0.4090909090909091, 'x[0] <= 11.5\\ngini = 0.331\\nsamples = 2943\\nvalue = [2328, 615]'),\n",
              " Text(0.140597539543058, 0.3181818181818182, 'x[0] <= 6.5\\ngini = 0.22\\nsamples = 1066\\nvalue = [932, 134]'),\n",
              " Text(0.13122437024018746, 0.22727272727272727, 'x[2] <= 24861.5\\ngini = 0.093\\nsamples = 246\\nvalue = [234, 12]'),\n",
              " Text(0.1265377855887522, 0.13636363636363635, 'x[2] <= 2751.0\\ngini = 0.069\\nsamples = 224\\nvalue = [216, 8]'),\n",
              " Text(0.12419449326303457, 0.045454545454545456, 'gini = 0.208\\nsamples = 34\\nvalue = [30, 4]'),\n",
              " Text(0.12888107791446984, 0.045454545454545456, 'gini = 0.041\\nsamples = 190\\nvalue = [186, 4]'),\n",
              " Text(0.13591095489162272, 0.13636363636363635, 'x[6] <= 12.5\\ngini = 0.298\\nsamples = 22\\nvalue = [18, 4]'),\n",
              " Text(0.1335676625659051, 0.045454545454545456, 'gini = 0.18\\nsamples = 20\\nvalue = [18, 2]'),\n",
              " Text(0.13825424721734036, 0.045454545454545456, 'gini = 0.0\\nsamples = 2\\nvalue = [0, 2]'),\n",
              " Text(0.14997070884592853, 0.22727272727272727, 'x[3] <= 4.0\\ngini = 0.253\\nsamples = 820\\nvalue = [698, 122]'),\n",
              " Text(0.14528412419449327, 0.13636363636363635, 'x[10] <= 68.0\\ngini = 0.207\\nsamples = 485\\nvalue = [428, 57]'),\n",
              " Text(0.14294083186877563, 0.045454545454545456, 'gini = 0.198\\nsamples = 477\\nvalue = [424, 53]'),\n",
              " Text(0.14762741652021089, 0.045454545454545456, 'gini = 0.5\\nsamples = 8\\nvalue = [4, 4]'),\n",
              " Text(0.1546572934973638, 0.13636363636363635, 'x[2] <= 13270.5\\ngini = 0.313\\nsamples = 335\\nvalue = [270, 65]'),\n",
              " Text(0.15231400117164617, 0.045454545454545456, 'gini = 0.246\\nsamples = 167\\nvalue = [143, 24]'),\n",
              " Text(0.15700058582308143, 0.045454545454545456, 'gini = 0.369\\nsamples = 168\\nvalue = [127, 41]'),\n",
              " Text(0.17809021675454012, 0.3181818181818182, 'x[4] <= 8.5\\ngini = 0.381\\nsamples = 1877\\nvalue = [1396, 481]'),\n",
              " Text(0.1687170474516696, 0.22727272727272727, 'x[8] <= 3.5\\ngini = 0.326\\nsamples = 1121\\nvalue = [891, 230]'),\n",
              " Text(0.16403046280023434, 0.13636363636363635, 'x[12] <= 13.5\\ngini = 0.176\\nsamples = 123\\nvalue = [111, 12]'),\n",
              " Text(0.1616871704745167, 0.045454545454545456, 'gini = 0.0\\nsamples = 1\\nvalue = [0, 1]'),\n",
              " Text(0.16637375512595196, 0.045454545454545456, 'gini = 0.164\\nsamples = 122\\nvalue = [111, 11]'),\n",
              " Text(0.17340363210310486, 0.13636363636363635, 'x[12] <= 38.5\\ngini = 0.341\\nsamples = 998\\nvalue = [780, 218]'),\n",
              " Text(0.17106033977738722, 0.045454545454545456, 'gini = 0.169\\nsamples = 86\\nvalue = [78, 8]'),\n",
              " Text(0.1757469244288225, 0.045454545454545456, 'gini = 0.354\\nsamples = 912\\nvalue = [702, 210]'),\n",
              " Text(0.18746338605741067, 0.22727272727272727, 'x[2] <= 10038.5\\ngini = 0.444\\nsamples = 756\\nvalue = [505, 251]'),\n",
              " Text(0.1827768014059754, 0.13636363636363635, 'x[13] <= 37.5\\ngini = 0.373\\nsamples = 311\\nvalue = [234, 77]'),\n",
              " Text(0.18043350908025776, 0.045454545454545456, 'gini = 0.0\\nsamples = 15\\nvalue = [15, 0]'),\n",
              " Text(0.18512009373169303, 0.045454545454545456, 'gini = 0.385\\nsamples = 296\\nvalue = [219, 77]'),\n",
              " Text(0.19214997070884593, 0.13636363636363635, 'x[6] <= 3.5\\ngini = 0.476\\nsamples = 445\\nvalue = [271, 174]'),\n",
              " Text(0.18980667838312829, 0.045454545454545456, 'gini = 0.499\\nsamples = 203\\nvalue = [107, 96]'),\n",
              " Text(0.19449326303456357, 0.045454545454545456, 'gini = 0.437\\nsamples = 242\\nvalue = [164, 78]'),\n",
              " Text(0.23432923257176333, 0.4090909090909091, 'x[12] <= 33.5\\ngini = 0.469\\nsamples = 5661\\nvalue = [3536, 2125]'),\n",
              " Text(0.21558289396602226, 0.3181818181818182, 'x[9] <= 0.5\\ngini = 0.285\\nsamples = 512\\nvalue = [424, 88]'),\n",
              " Text(0.20620972466315174, 0.22727272727272727, 'x[6] <= 5.5\\ngini = 0.413\\nsamples = 144\\nvalue = [102, 42]'),\n",
              " Text(0.20152314001171645, 0.13636363636363635, 'x[12] <= 30.0\\ngini = 0.492\\nsamples = 64\\nvalue = [36, 28]'),\n",
              " Text(0.19917984768599883, 0.045454545454545456, 'gini = 0.499\\nsamples = 59\\nvalue = [31, 28]'),\n",
              " Text(0.2038664323374341, 0.045454545454545456, 'gini = 0.0\\nsamples = 5\\nvalue = [5, 0]'),\n",
              " Text(0.210896309314587, 0.13636363636363635, 'x[4] <= 9.5\\ngini = 0.289\\nsamples = 80\\nvalue = [66, 14]'),\n",
              " Text(0.20855301698886936, 0.045454545454545456, 'gini = 0.239\\nsamples = 72\\nvalue = [62, 10]'),\n",
              " Text(0.21323960164030462, 0.045454545454545456, 'gini = 0.5\\nsamples = 8\\nvalue = [4, 4]'),\n",
              " Text(0.22495606326889278, 0.22727272727272727, 'x[6] <= 10.5\\ngini = 0.219\\nsamples = 368\\nvalue = [322, 46]'),\n",
              " Text(0.22026947861745752, 0.13636363636363635, 'x[4] <= 8.5\\ngini = 0.159\\nsamples = 265\\nvalue = [242, 23]'),\n",
              " Text(0.2179261862917399, 0.045454545454545456, 'gini = 0.106\\nsamples = 178\\nvalue = [168, 10]'),\n",
              " Text(0.22261277094317516, 0.045454545454545456, 'gini = 0.254\\nsamples = 87\\nvalue = [74, 13]'),\n",
              " Text(0.22964264792032807, 0.13636363636363635, 'x[2] <= 7146.0\\ngini = 0.347\\nsamples = 103\\nvalue = [80, 23]'),\n",
              " Text(0.22729935559461042, 0.045454545454545456, 'gini = 0.478\\nsamples = 33\\nvalue = [20, 13]'),\n",
              " Text(0.23198594024604569, 0.045454545454545456, 'gini = 0.245\\nsamples = 70\\nvalue = [60, 10]'),\n",
              " Text(0.2530755711775044, 0.3181818181818182, 'x[1] <= 3.5\\ngini = 0.478\\nsamples = 5149\\nvalue = [3112, 2037]'),\n",
              " Text(0.24370240187463385, 0.22727272727272727, 'x[3] <= 4.0\\ngini = 0.488\\nsamples = 4285\\nvalue = [2474, 1811]'),\n",
              " Text(0.2390158172231986, 0.13636363636363635, 'x[6] <= 3.5\\ngini = 0.466\\nsamples = 2508\\nvalue = [1582, 926]'),\n",
              " Text(0.23667252489748097, 0.045454545454545456, 'gini = 0.486\\nsamples = 1178\\nvalue = [686, 492]'),\n",
              " Text(0.24135910954891623, 0.045454545454545456, 'gini = 0.44\\nsamples = 1330\\nvalue = [896, 434]'),\n",
              " Text(0.24838898652606914, 0.13636363636363635, 'x[10] <= 51.5\\ngini = 0.5\\nsamples = 1777\\nvalue = [892, 885]'),\n",
              " Text(0.2460456942003515, 0.045454545454545456, 'gini = 0.5\\nsamples = 1722\\nvalue = [847, 875]'),\n",
              " Text(0.2507322788517868, 0.045454545454545456, 'gini = 0.298\\nsamples = 55\\nvalue = [45, 10]'),\n",
              " Text(0.2624487404803749, 0.22727272727272727, 'x[1] <= 4.5\\ngini = 0.386\\nsamples = 864\\nvalue = [638, 226]'),\n",
              " Text(0.2577621558289397, 0.13636363636363635, 'x[0] <= 51.5\\ngini = 0.357\\nsamples = 676\\nvalue = [519, 157]'),\n",
              " Text(0.255418863503222, 0.045454545454545456, 'gini = 0.366\\nsamples = 651\\nvalue = [494, 157]'),\n",
              " Text(0.2601054481546573, 0.045454545454545456, 'gini = 0.0\\nsamples = 25\\nvalue = [25, 0]'),\n",
              " Text(0.2671353251318102, 0.13636363636363635, 'x[12] <= 39.5\\ngini = 0.465\\nsamples = 188\\nvalue = [119, 69]'),\n",
              " Text(0.26479203280609254, 0.045454545454545456, 'gini = 0.437\\nsamples = 158\\nvalue = [107, 51]'),\n",
              " Text(0.2694786174575278, 0.045454545454545456, 'gini = 0.48\\nsamples = 30\\nvalue = [12, 18]'),\n",
              " Text(0.28588166373755125, 0.5, 'x[11] <= 56.5\\ngini = 0.352\\nsamples = 355\\nvalue = [81, 274]'),\n",
              " Text(0.27650849443468073, 0.4090909090909091, 'x[0] <= 5.5\\ngini = 0.067\\nsamples = 260\\nvalue = [9, 251]'),\n",
              " Text(0.2741652021089631, 0.3181818181818182, 'gini = 0.0\\nsamples = 1\\nvalue = [1, 0]'),\n",
              " Text(0.27885178676039835, 0.3181818181818182, 'x[11] <= 50.5\\ngini = 0.06\\nsamples = 259\\nvalue = [8, 251]'),\n",
              " Text(0.27650849443468073, 0.22727272727272727, 'gini = 0.0\\nsamples = 126\\nvalue = [0, 126]'),\n",
              " Text(0.281195079086116, 0.22727272727272727, 'x[0] <= 14.5\\ngini = 0.113\\nsamples = 133\\nvalue = [8, 125]'),\n",
              " Text(0.27650849443468073, 0.13636363636363635, 'x[13] <= 13.5\\ngini = 0.337\\nsamples = 14\\nvalue = [3, 11]'),\n",
              " Text(0.2741652021089631, 0.045454545454545456, 'gini = 0.0\\nsamples = 1\\nvalue = [1, 0]'),\n",
              " Text(0.27885178676039835, 0.045454545454545456, 'gini = 0.26\\nsamples = 13\\nvalue = [2, 11]'),\n",
              " Text(0.28588166373755125, 0.13636363636363635, 'x[12] <= 40.0\\ngini = 0.081\\nsamples = 119\\nvalue = [5, 114]'),\n",
              " Text(0.28353837141183363, 0.045454545454545456, 'gini = 0.153\\nsamples = 60\\nvalue = [5, 55]'),\n",
              " Text(0.28822495606326887, 0.045454545454545456, 'gini = 0.0\\nsamples = 59\\nvalue = [0, 59]'),\n",
              " Text(0.29525483304042177, 0.4090909090909091, 'x[11] <= 65.0\\ngini = 0.367\\nsamples = 95\\nvalue = [72, 23]'),\n",
              " Text(0.29291154071470415, 0.3181818181818182, 'gini = 0.0\\nsamples = 48\\nvalue = [48, 0]'),\n",
              " Text(0.29759812536613944, 0.3181818181818182, 'x[11] <= 66.5\\ngini = 0.5\\nsamples = 47\\nvalue = [24, 23]'),\n",
              " Text(0.29525483304042177, 0.22727272727272727, 'gini = 0.0\\nsamples = 6\\nvalue = [0, 6]'),\n",
              " Text(0.29994141769185706, 0.22727272727272727, 'x[11] <= 79.5\\ngini = 0.485\\nsamples = 41\\nvalue = [24, 17]'),\n",
              " Text(0.29525483304042177, 0.13636363636363635, 'x[0] <= 50.0\\ngini = 0.384\\nsamples = 27\\nvalue = [20, 7]'),\n",
              " Text(0.29291154071470415, 0.045454545454545456, 'gini = 0.227\\nsamples = 23\\nvalue = [20, 3]'),\n",
              " Text(0.29759812536613944, 0.045454545454545456, 'gini = 0.0\\nsamples = 4\\nvalue = [0, 4]'),\n",
              " Text(0.30462800234329235, 0.13636363636363635, 'x[11] <= 82.0\\ngini = 0.408\\nsamples = 14\\nvalue = [4, 10]'),\n",
              " Text(0.3022847100175747, 0.045454545454545456, 'gini = 0.0\\nsamples = 10\\nvalue = [0, 10]'),\n",
              " Text(0.30697129466900996, 0.045454545454545456, 'gini = 0.0\\nsamples = 4\\nvalue = [4, 0]'),\n",
              " Text(0.3145869947275923, 0.6818181818181818, 'x[0] <= 43.5\\ngini = 0.046\\nsamples = 549\\nvalue = [13, 536]'),\n",
              " Text(0.3022847100175747, 0.5909090909090909, 'x[4] <= 0.5\\ngini = 0.008\\nsamples = 488\\nvalue = [2, 486]'),\n",
              " Text(0.29994141769185706, 0.5, 'gini = 0.0\\nsamples = 1\\nvalue = [1, 0]'),\n",
              " Text(0.30462800234329235, 0.5, 'x[12] <= 84.0\\ngini = 0.004\\nsamples = 487\\nvalue = [1, 486]'),\n",
              " Text(0.3022847100175747, 0.4090909090909091, 'gini = 0.0\\nsamples = 481\\nvalue = [0, 481]'),\n",
              " Text(0.30697129466900996, 0.4090909090909091, 'x[13] <= 36.0\\ngini = 0.278\\nsamples = 6\\nvalue = [1, 5]'),\n",
              " Text(0.30462800234329235, 0.3181818181818182, 'gini = 0.0\\nsamples = 1\\nvalue = [1, 0]'),\n",
              " Text(0.3093145869947276, 0.3181818181818182, 'gini = 0.0\\nsamples = 5\\nvalue = [0, 5]'),\n",
              " Text(0.3268892794376098, 0.5909090909090909, 'x[10] <= 103.5\\ngini = 0.296\\nsamples = 61\\nvalue = [11, 50]'),\n",
              " Text(0.3210310486233158, 0.5, 'x[10] <= 101.5\\ngini = 0.394\\nsamples = 37\\nvalue = [10, 27]'),\n",
              " Text(0.3186877562975981, 0.4090909090909091, 'x[4] <= 9.5\\ngini = 0.18\\nsamples = 30\\nvalue = [3, 27]'),\n",
              " Text(0.31400117164616287, 0.3181818181818182, 'x[0] <= 53.5\\ngini = 0.133\\nsamples = 28\\nvalue = [2, 26]'),\n",
              " Text(0.31165787932044525, 0.22727272727272727, 'gini = 0.0\\nsamples = 21\\nvalue = [0, 21]'),\n",
              " Text(0.3163444639718805, 0.22727272727272727, 'x[2] <= 11043.5\\ngini = 0.408\\nsamples = 7\\nvalue = [2, 5]'),\n",
              " Text(0.31400117164616287, 0.13636363636363635, 'x[4] <= 8.5\\ngini = 0.444\\nsamples = 3\\nvalue = [2, 1]'),\n",
              " Text(0.31165787932044525, 0.045454545454545456, 'gini = 0.0\\nsamples = 2\\nvalue = [2, 0]'),\n",
              " Text(0.3163444639718805, 0.045454545454545456, 'gini = 0.0\\nsamples = 1\\nvalue = [0, 1]'),\n",
              " Text(0.3186877562975981, 0.13636363636363635, 'gini = 0.0\\nsamples = 4\\nvalue = [0, 4]'),\n",
              " Text(0.3233743409490334, 0.3181818181818182, 'x[12] <= 54.0\\ngini = 0.5\\nsamples = 2\\nvalue = [1, 1]'),\n",
              " Text(0.3210310486233158, 0.22727272727272727, 'gini = 0.0\\nsamples = 1\\nvalue = [0, 1]'),\n",
              " Text(0.325717633274751, 0.22727272727272727, 'gini = 0.0\\nsamples = 1\\nvalue = [1, 0]'),\n",
              " Text(0.3233743409490334, 0.4090909090909091, 'gini = 0.0\\nsamples = 7\\nvalue = [7, 0]'),\n",
              " Text(0.3327475102519039, 0.5, 'x[2] <= 863.0\\ngini = 0.08\\nsamples = 24\\nvalue = [1, 23]'),\n",
              " Text(0.3304042179261863, 0.4090909090909091, 'x[10] <= 113.5\\ngini = 0.5\\nsamples = 2\\nvalue = [1, 1]'),\n",
              " Text(0.3280609256004687, 0.3181818181818182, 'gini = 0.0\\nsamples = 1\\nvalue = [0, 1]'),\n",
              " Text(0.3327475102519039, 0.3181818181818182, 'gini = 0.0\\nsamples = 1\\nvalue = [1, 0]'),\n",
              " Text(0.3350908025776216, 0.4090909090909091, 'gini = 0.0\\nsamples = 22\\nvalue = [0, 22]'),\n",
              " Text(0.4910661980082015, 0.7727272727272727, 'x[10] <= 79.0\\ngini = 0.412\\nsamples = 5536\\nvalue = [1607, 3929]'),\n",
              " Text(0.4513766842413591, 0.6818181818181818, 'x[11] <= 42.5\\ngini = 0.448\\nsamples = 4733\\nvalue = [1605, 3128]'),\n",
              " Text(0.4001171646162859, 0.5909090909090909, 'x[0] <= 11.5\\ngini = 0.467\\nsamples = 4268\\nvalue = [1585, 2683]'),\n",
              " Text(0.35559461042765084, 0.5, 'x[12] <= 40.5\\ngini = 0.459\\nsamples = 323\\nvalue = [208, 115]'),\n",
              " Text(0.3397773872290568, 0.4090909090909091, 'x[0] <= 6.5\\ngini = 0.396\\nsamples = 195\\nvalue = [142, 53]'),\n",
              " Text(0.3374340949033392, 0.3181818181818182, 'gini = 0.0\\nsamples = 17\\nvalue = [17, 0]'),\n",
              " Text(0.34212067955477443, 0.3181818181818182, 'x[2] <= 722.0\\ngini = 0.418\\nsamples = 178\\nvalue = [125, 53]'),\n",
              " Text(0.3362624487404804, 0.22727272727272727, 'x[2] <= 584.0\\ngini = 0.49\\nsamples = 7\\nvalue = [3, 4]'),\n",
              " Text(0.3339191564147627, 0.13636363636363635, 'x[6] <= 10.0\\ngini = 0.48\\nsamples = 5\\nvalue = [3, 2]'),\n",
              " Text(0.3315758640890451, 0.045454545454545456, 'gini = 0.0\\nsamples = 2\\nvalue = [2, 0]'),\n",
              " Text(0.3362624487404804, 0.045454545454545456, 'gini = 0.444\\nsamples = 3\\nvalue = [1, 2]'),\n",
              " Text(0.338605741066198, 0.13636363636363635, 'gini = 0.0\\nsamples = 2\\nvalue = [0, 2]'),\n",
              " Text(0.34797891036906853, 0.22727272727272727, 'x[12] <= 33.0\\ngini = 0.409\\nsamples = 171\\nvalue = [122, 49]'),\n",
              " Text(0.3432923257176333, 0.13636363636363635, 'x[7] <= 4.0\\ngini = 0.227\\nsamples = 23\\nvalue = [20, 3]'),\n",
              " Text(0.3409490333919156, 0.045454545454545456, 'gini = 0.0\\nsamples = 13\\nvalue = [13, 0]'),\n",
              " Text(0.3456356180433509, 0.045454545454545456, 'gini = 0.42\\nsamples = 10\\nvalue = [7, 3]'),\n",
              " Text(0.3526654950205038, 0.13636363636363635, 'x[6] <= 8.0\\ngini = 0.428\\nsamples = 148\\nvalue = [102, 46]'),\n",
              " Text(0.3503222026947862, 0.045454545454545456, 'gini = 0.364\\nsamples = 71\\nvalue = [54, 17]'),\n",
              " Text(0.35500878734622143, 0.045454545454545456, 'gini = 0.47\\nsamples = 77\\nvalue = [48, 29]'),\n",
              " Text(0.37141183362624486, 0.4090909090909091, 'x[0] <= 7.5\\ngini = 0.5\\nsamples = 128\\nvalue = [66, 62]'),\n",
              " Text(0.36203866432337434, 0.3181818181818182, 'x[8] <= 2.0\\ngini = 0.32\\nsamples = 15\\nvalue = [12, 3]'),\n",
              " Text(0.3596953719976567, 0.22727272727272727, 'gini = 0.0\\nsamples = 1\\nvalue = [0, 1]'),\n",
              " Text(0.36438195664909195, 0.22727272727272727, 'x[2] <= 22135.0\\ngini = 0.245\\nsamples = 14\\nvalue = [12, 2]'),\n",
              " Text(0.36203866432337434, 0.13636363636363635, 'x[13] <= 9.0\\ngini = 0.142\\nsamples = 13\\nvalue = [12, 1]'),\n",
              " Text(0.3596953719976567, 0.045454545454545456, 'gini = 0.0\\nsamples = 1\\nvalue = [0, 1]'),\n",
              " Text(0.36438195664909195, 0.045454545454545456, 'gini = 0.0\\nsamples = 12\\nvalue = [12, 0]'),\n",
              " Text(0.3667252489748096, 0.13636363636363635, 'gini = 0.0\\nsamples = 1\\nvalue = [0, 1]'),\n",
              " Text(0.38078500292911543, 0.3181818181818182, 'x[12] <= 46.0\\ngini = 0.499\\nsamples = 113\\nvalue = [54, 59]'),\n",
              " Text(0.37375512595196253, 0.22727272727272727, 'x[2] <= 2085.5\\ngini = 0.433\\nsamples = 41\\nvalue = [13, 28]'),\n",
              " Text(0.37141183362624486, 0.13636363636363635, 'gini = 0.0\\nsamples = 2\\nvalue = [2, 0]'),\n",
              " Text(0.37609841827768015, 0.13636363636363635, 'x[2] <= 17197.5\\ngini = 0.405\\nsamples = 39\\nvalue = [11, 28]'),\n",
              " Text(0.37375512595196253, 0.045454545454545456, 'gini = 0.287\\nsamples = 23\\nvalue = [4, 19]'),\n",
              " Text(0.37844171060339776, 0.045454545454545456, 'gini = 0.492\\nsamples = 16\\nvalue = [7, 9]'),\n",
              " Text(0.3878148799062683, 0.22727272727272727, 'x[12] <= 75.5\\ngini = 0.49\\nsamples = 72\\nvalue = [41, 31]'),\n",
              " Text(0.38547158758055067, 0.13636363636363635, 'x[6] <= 10.5\\ngini = 0.479\\nsamples = 68\\nvalue = [41, 27]'),\n",
              " Text(0.38312829525483305, 0.045454545454545456, 'gini = 0.444\\nsamples = 51\\nvalue = [34, 17]'),\n",
              " Text(0.3878148799062683, 0.045454545454545456, 'gini = 0.484\\nsamples = 17\\nvalue = [7, 10]'),\n",
              " Text(0.39015817223198596, 0.13636363636363635, 'gini = 0.0\\nsamples = 4\\nvalue = [0, 4]'),\n",
              " Text(0.4446397188049209, 0.5, 'x[12] <= 30.5\\ngini = 0.454\\nsamples = 3945\\nvalue = [1377, 2568]'),\n",
              " Text(0.421792618629174, 0.4090909090909091, 'x[9] <= 0.5\\ngini = 0.484\\nsamples = 300\\nvalue = [177, 123]'),\n",
              " Text(0.408904510837727, 0.3181818181818182, 'x[2] <= 3573.0\\ngini = 0.458\\nsamples = 93\\nvalue = [33, 60]'),\n",
              " Text(0.3995313415348565, 0.22727272727272727, 'x[4] <= 12.5\\ngini = 0.408\\nsamples = 14\\nvalue = [10, 4]'),\n",
              " Text(0.3948447568834212, 0.13636363636363635, 'x[2] <= 1379.0\\ngini = 0.298\\nsamples = 11\\nvalue = [9, 2]'),\n",
              " Text(0.39250146455770357, 0.045454545454545456, 'gini = 0.0\\nsamples = 5\\nvalue = [5, 0]'),\n",
              " Text(0.39718804920913886, 0.045454545454545456, 'gini = 0.444\\nsamples = 6\\nvalue = [4, 2]'),\n",
              " Text(0.40421792618629176, 0.13636363636363635, 'x[12] <= 13.0\\ngini = 0.444\\nsamples = 3\\nvalue = [1, 2]'),\n",
              " Text(0.4018746338605741, 0.045454545454545456, 'gini = 0.0\\nsamples = 1\\nvalue = [1, 0]'),\n",
              " Text(0.4065612185120094, 0.045454545454545456, 'gini = 0.0\\nsamples = 2\\nvalue = [0, 2]'),\n",
              " Text(0.4182776801405975, 0.22727272727272727, 'x[2] <= 23572.0\\ngini = 0.413\\nsamples = 79\\nvalue = [23, 56]'),\n",
              " Text(0.4135910954891623, 0.13636363636363635, 'x[0] <= 32.5\\ngini = 0.378\\nsamples = 71\\nvalue = [18, 53]'),\n",
              " Text(0.4112478031634446, 0.045454545454545456, 'gini = 0.311\\nsamples = 57\\nvalue = [11, 46]'),\n",
              " Text(0.4159343878148799, 0.045454545454545456, 'gini = 0.5\\nsamples = 14\\nvalue = [7, 7]'),\n",
              " Text(0.4229642647920328, 0.13636363636363635, 'x[6] <= 1.5\\ngini = 0.469\\nsamples = 8\\nvalue = [5, 3]'),\n",
              " Text(0.4206209724663152, 0.045454545454545456, 'gini = 0.0\\nsamples = 3\\nvalue = [3, 0]'),\n",
              " Text(0.4253075571177504, 0.045454545454545456, 'gini = 0.48\\nsamples = 5\\nvalue = [2, 3]'),\n",
              " Text(0.434680726420621, 0.3181818181818182, 'x[6] <= 6.5\\ngini = 0.423\\nsamples = 207\\nvalue = [144, 63]'),\n",
              " Text(0.4299941417691857, 0.22727272727272727, 'x[0] <= 33.5\\ngini = 0.271\\nsamples = 68\\nvalue = [57, 11]'),\n",
              " Text(0.4276508494434681, 0.13636363636363635, 'gini = 0.0\\nsamples = 19\\nvalue = [19, 0]'),\n",
              " Text(0.43233743409490333, 0.13636363636363635, 'x[10] <= 66.0\\ngini = 0.348\\nsamples = 49\\nvalue = [38, 11]'),\n",
              " Text(0.4299941417691857, 0.045454545454545456, 'gini = 0.33\\nsamples = 48\\nvalue = [38, 10]'),\n",
              " Text(0.434680726420621, 0.045454545454545456, 'gini = 0.0\\nsamples = 1\\nvalue = [0, 1]'),\n",
              " Text(0.43936731107205623, 0.22727272727272727, 'x[2] <= 1971.0\\ngini = 0.468\\nsamples = 139\\nvalue = [87, 52]'),\n",
              " Text(0.4370240187463386, 0.13636363636363635, 'gini = 0.0\\nsamples = 8\\nvalue = [8, 0]'),\n",
              " Text(0.44171060339777385, 0.13636363636363635, 'x[8] <= 3.0\\ngini = 0.479\\nsamples = 131\\nvalue = [79, 52]'),\n",
              " Text(0.43936731107205623, 0.045454545454545456, 'gini = 0.219\\nsamples = 16\\nvalue = [14, 2]'),\n",
              " Text(0.4440538957234915, 0.045454545454545456, 'gini = 0.491\\nsamples = 115\\nvalue = [65, 50]'),\n",
              " Text(0.46748681898066785, 0.4090909090909091, 'x[4] <= 12.5\\ngini = 0.442\\nsamples = 3645\\nvalue = [1200, 2445]'),\n",
              " Text(0.45811364967779733, 0.3181818181818182, 'x[11] <= 22.0\\ngini = 0.468\\nsamples = 2468\\nvalue = [921, 1547]'),\n",
              " Text(0.45577035735207966, 0.22727272727272727, 'x[10] <= 51.5\\ngini = 0.465\\nsamples = 2448\\nvalue = [901, 1547]'),\n",
              " Text(0.4510837727006444, 0.13636363636363635, 'x[3] <= 3.0\\ngini = 0.461\\nsamples = 2405\\nvalue = [868, 1537]'),\n",
              " Text(0.44874048037492675, 0.045454545454545456, 'gini = 0.447\\nsamples = 2039\\nvalue = [689, 1350]'),\n",
              " Text(0.45342706502636204, 0.045454545454545456, 'gini = 0.5\\nsamples = 366\\nvalue = [179, 187]'),\n",
              " Text(0.46045694200351495, 0.13636363636363635, 'x[10] <= 70.0\\ngini = 0.357\\nsamples = 43\\nvalue = [33, 10]'),\n",
              " Text(0.45811364967779733, 0.045454545454545456, 'gini = 0.473\\nsamples = 26\\nvalue = [16, 10]'),\n",
              " Text(0.46280023432923256, 0.045454545454545456, 'gini = 0.0\\nsamples = 17\\nvalue = [17, 0]'),\n",
              " Text(0.46045694200351495, 0.22727272727272727, 'gini = 0.0\\nsamples = 20\\nvalue = [20, 0]'),\n",
              " Text(0.47685998828353837, 0.3181818181818182, 'x[10] <= 73.5\\ngini = 0.362\\nsamples = 1177\\nvalue = [279, 898]'),\n",
              " Text(0.47451669595782076, 0.22727272727272727, 'x[6] <= 2.5\\ngini = 0.358\\nsamples = 1171\\nvalue = [273, 898]'),\n",
              " Text(0.46983011130638547, 0.13636363636363635, 'x[0] <= 32.5\\ngini = 0.497\\nsamples = 61\\nvalue = [28, 33]'),\n",
              " Text(0.46748681898066785, 0.045454545454545456, 'gini = 0.48\\nsamples = 40\\nvalue = [24, 16]'),\n",
              " Text(0.4721734036321031, 0.045454545454545456, 'gini = 0.308\\nsamples = 21\\nvalue = [4, 17]'),\n",
              " Text(0.479203280609256, 0.13636363636363635, 'x[11] <= 6.0\\ngini = 0.344\\nsamples = 1110\\nvalue = [245, 865]'),\n",
              " Text(0.47685998828353837, 0.045454545454545456, 'gini = 0.339\\nsamples = 1101\\nvalue = [238, 863]'),\n",
              " Text(0.48154657293497366, 0.045454545454545456, 'gini = 0.346\\nsamples = 9\\nvalue = [7, 2]'),\n",
              " Text(0.479203280609256, 0.22727272727272727, 'gini = 0.0\\nsamples = 6\\nvalue = [6, 0]'),\n",
              " Text(0.5026362038664324, 0.5909090909090909, 'x[11] <= 56.5\\ngini = 0.082\\nsamples = 465\\nvalue = [20, 445]'),\n",
              " Text(0.4932630345635618, 0.5, 'x[1] <= 1.5\\ngini = 0.01\\nsamples = 384\\nvalue = [2, 382]'),\n",
              " Text(0.4909197422378442, 0.4090909090909091, 'x[0] <= 11.5\\ngini = 0.071\\nsamples = 54\\nvalue = [2, 52]'),\n",
              " Text(0.4862331575864089, 0.3181818181818182, 'x[11] <= 53.0\\ngini = 0.5\\nsamples = 2\\nvalue = [1, 1]'),\n",
              " Text(0.4838898652606913, 0.22727272727272727, 'gini = 0.0\\nsamples = 1\\nvalue = [1, 0]'),\n",
              " Text(0.48857644991212656, 0.22727272727272727, 'gini = 0.0\\nsamples = 1\\nvalue = [0, 1]'),\n",
              " Text(0.4956063268892794, 0.3181818181818182, 'x[0] <= 33.5\\ngini = 0.038\\nsamples = 52\\nvalue = [1, 51]'),\n",
              " Text(0.4932630345635618, 0.22727272727272727, 'gini = 0.0\\nsamples = 46\\nvalue = [0, 46]'),\n",
              " Text(0.4979496192149971, 0.22727272727272727, 'x[6] <= 6.0\\ngini = 0.278\\nsamples = 6\\nvalue = [1, 5]'),\n",
              " Text(0.4956063268892794, 0.13636363636363635, 'gini = 0.0\\nsamples = 1\\nvalue = [1, 0]'),\n",
              " Text(0.5002929115407148, 0.13636363636363635, 'gini = 0.0\\nsamples = 5\\nvalue = [0, 5]'),\n",
              " Text(0.4956063268892794, 0.4090909090909091, 'gini = 0.0\\nsamples = 330\\nvalue = [0, 330]'),\n",
              " Text(0.5120093731693028, 0.5, 'x[11] <= 64.5\\ngini = 0.346\\nsamples = 81\\nvalue = [18, 63]'),\n",
              " Text(0.5096660808435852, 0.4090909090909091, 'gini = 0.0\\nsamples = 14\\nvalue = [14, 0]'),\n",
              " Text(0.5143526654950205, 0.4090909090909091, 'x[3] <= 5.5\\ngini = 0.112\\nsamples = 67\\nvalue = [4, 63]'),\n",
              " Text(0.5120093731693028, 0.3181818181818182, 'x[11] <= 82.0\\ngini = 0.087\\nsamples = 66\\nvalue = [3, 63]'),\n",
              " Text(0.5096660808435852, 0.22727272727272727, 'x[11] <= 70.0\\ngini = 0.06\\nsamples = 65\\nvalue = [2, 63]'),\n",
              " Text(0.50497949619215, 0.13636363636363635, 'x[0] <= 48.0\\ngini = 0.5\\nsamples = 2\\nvalue = [1, 1]'),\n",
              " Text(0.5026362038664324, 0.045454545454545456, 'gini = 0.0\\nsamples = 1\\nvalue = [1, 0]'),\n",
              " Text(0.5073227885178676, 0.045454545454545456, 'gini = 0.0\\nsamples = 1\\nvalue = [0, 1]'),\n",
              " Text(0.5143526654950205, 0.13636363636363635, 'x[11] <= 79.5\\ngini = 0.031\\nsamples = 63\\nvalue = [1, 62]'),\n",
              " Text(0.5120093731693028, 0.045454545454545456, 'gini = 0.198\\nsamples = 9\\nvalue = [1, 8]'),\n",
              " Text(0.5166959578207382, 0.045454545454545456, 'gini = 0.0\\nsamples = 54\\nvalue = [0, 54]'),\n",
              " Text(0.5143526654950205, 0.22727272727272727, 'gini = 0.0\\nsamples = 1\\nvalue = [1, 0]'),\n",
              " Text(0.5166959578207382, 0.3181818181818182, 'gini = 0.0\\nsamples = 1\\nvalue = [1, 0]'),\n",
              " Text(0.5307557117750439, 0.6818181818181818, 'x[0] <= 68.0\\ngini = 0.005\\nsamples = 803\\nvalue = [2, 801]'),\n",
              " Text(0.523725834797891, 0.5909090909090909, 'x[0] <= 45.5\\ngini = 0.003\\nsamples = 798\\nvalue = [1, 797]'),\n",
              " Text(0.5213825424721734, 0.5, 'gini = 0.0\\nsamples = 732\\nvalue = [0, 732]'),\n",
              " Text(0.5260691271236086, 0.5, 'x[0] <= 46.5\\ngini = 0.03\\nsamples = 66\\nvalue = [1, 65]'),\n",
              " Text(0.523725834797891, 0.4090909090909091, 'x[3] <= 1.5\\ngini = 0.245\\nsamples = 7\\nvalue = [1, 6]'),\n",
              " Text(0.5213825424721734, 0.3181818181818182, 'gini = 0.0\\nsamples = 6\\nvalue = [0, 6]'),\n",
              " Text(0.5260691271236086, 0.3181818181818182, 'gini = 0.0\\nsamples = 1\\nvalue = [1, 0]'),\n",
              " Text(0.5284124194493263, 0.4090909090909091, 'gini = 0.0\\nsamples = 59\\nvalue = [0, 59]'),\n",
              " Text(0.5377855887521968, 0.5909090909090909, 'x[3] <= 1.5\\ngini = 0.32\\nsamples = 5\\nvalue = [1, 4]'),\n",
              " Text(0.5354422964264792, 0.5, 'x[10] <= 101.5\\ngini = 0.5\\nsamples = 2\\nvalue = [1, 1]'),\n",
              " Text(0.5330990041007616, 0.4090909090909091, 'gini = 0.0\\nsamples = 1\\nvalue = [0, 1]'),\n",
              " Text(0.5377855887521968, 0.4090909090909091, 'gini = 0.0\\nsamples = 1\\nvalue = [1, 0]'),\n",
              " Text(0.5401288810779145, 0.5, 'gini = 0.0\\nsamples = 3\\nvalue = [0, 3]'),\n",
              " Text(0.8894808142940832, 0.8636363636363636, 'x[10] <= 91.5\\ngini = 0.127\\nsamples = 19298\\nvalue = [17978, 1320]'),\n",
              " Text(0.7988796133567663, 0.7727272727272727, 'x[4] <= 12.5\\ngini = 0.097\\nsamples = 18935\\nvalue = [17965, 970]'),\n",
              " Text(0.715656121851201, 0.6818181818181818, 'x[11] <= 70.5\\ngini = 0.073\\nsamples = 17878\\nvalue = [17197, 681]'),\n",
              " Text(0.6427943760984183, 0.5909090909090909, 'x[12] <= 41.5\\ngini = 0.068\\nsamples = 17787\\nvalue = [17156, 631]'),\n",
              " Text(0.5785002929115407, 0.5, 'x[0] <= 16.5\\ngini = 0.039\\nsamples = 14318\\nvalue = [14030, 288]'),\n",
              " Text(0.5459871118922085, 0.4090909090909091, 'x[3] <= 1.0\\ngini = 0.012\\nsamples = 8365\\nvalue = [8314, 51]'),\n",
              " Text(0.5342706502636204, 0.3181818181818182, 'x[11] <= 21.5\\ngini = 0.042\\nsamples = 1155\\nvalue = [1130, 25]'),\n",
              " Text(0.5284124194493263, 0.22727272727272727, 'x[0] <= 12.5\\ngini = 0.037\\nsamples = 1129\\nvalue = [1108, 21]'),\n",
              " Text(0.523725834797891, 0.13636363636363635, 'x[0] <= 4.5\\ngini = 0.024\\nsamples = 912\\nvalue = [901, 11]'),\n",
              " Text(0.5213825424721734, 0.045454545454545456, 'gini = 0.198\\nsamples = 9\\nvalue = [8, 1]'),\n",
              " Text(0.5260691271236086, 0.045454545454545456, 'gini = 0.022\\nsamples = 903\\nvalue = [893, 10]'),\n",
              " Text(0.5330990041007616, 0.13636363636363635, 'x[9] <= 0.5\\ngini = 0.088\\nsamples = 217\\nvalue = [207, 10]'),\n",
              " Text(0.5307557117750439, 0.045454545454545456, 'gini = 0.046\\nsamples = 127\\nvalue = [124, 3]'),\n",
              " Text(0.5354422964264792, 0.045454545454545456, 'gini = 0.143\\nsamples = 90\\nvalue = [83, 7]'),\n",
              " Text(0.5401288810779145, 0.22727272727272727, 'x[11] <= 24.5\\ngini = 0.26\\nsamples = 26\\nvalue = [22, 4]'),\n",
              " Text(0.5377855887521968, 0.13636363636363635, 'gini = 0.0\\nsamples = 4\\nvalue = [0, 4]'),\n",
              " Text(0.5424721734036321, 0.13636363636363635, 'gini = 0.0\\nsamples = 22\\nvalue = [22, 0]'),\n",
              " Text(0.5577035735207967, 0.3181818181818182, 'x[2] <= 110.0\\ngini = 0.007\\nsamples = 7210\\nvalue = [7184, 26]'),\n",
              " Text(0.549502050380785, 0.22727272727272727, 'x[2] <= 98.0\\ngini = 0.153\\nsamples = 24\\nvalue = [22, 2]'),\n",
              " Text(0.5471587580550674, 0.13636363636363635, 'gini = 0.0\\nsamples = 21\\nvalue = [21, 0]'),\n",
              " Text(0.5518453427065027, 0.13636363636363635, 'x[1] <= 1.5\\ngini = 0.444\\nsamples = 3\\nvalue = [1, 2]'),\n",
              " Text(0.549502050380785, 0.045454545454545456, 'gini = 0.0\\nsamples = 1\\nvalue = [1, 0]'),\n",
              " Text(0.5541886350322203, 0.045454545454545456, 'gini = 0.0\\nsamples = 2\\nvalue = [0, 2]'),\n",
              " Text(0.5659050966608085, 0.22727272727272727, 'x[0] <= 9.5\\ngini = 0.007\\nsamples = 7186\\nvalue = [7162, 24]'),\n",
              " Text(0.5612185120093731, 0.13636363636363635, 'x[1] <= 1.5\\ngini = 0.003\\nsamples = 5055\\nvalue = [5048, 7]'),\n",
              " Text(0.5588752196836555, 0.045454545454545456, 'gini = 0.018\\nsamples = 220\\nvalue = [218, 2]'),\n",
              " Text(0.5635618043350908, 0.045454545454545456, 'gini = 0.002\\nsamples = 4835\\nvalue = [4830, 5]'),\n",
              " Text(0.5705916813122437, 0.13636363636363635, 'x[10] <= 73.0\\ngini = 0.016\\nsamples = 2131\\nvalue = [2114, 17]'),\n",
              " Text(0.5682483889865261, 0.045454545454545456, 'gini = 0.015\\nsamples = 2123\\nvalue = [2107, 16]'),\n",
              " Text(0.5729349736379613, 0.045454545454545456, 'gini = 0.219\\nsamples = 8\\nvalue = [7, 1]'),\n",
              " Text(0.6110134739308729, 0.4090909090909091, 'x[3] <= 1.0\\ngini = 0.076\\nsamples = 5953\\nvalue = [5716, 237]'),\n",
              " Text(0.5940246045694201, 0.3181818181818182, 'x[0] <= 27.5\\ngini = 0.208\\nsamples = 813\\nvalue = [717, 96]'),\n",
              " Text(0.5846514352665495, 0.22727272727272727, 'x[6] <= 8.5\\ngini = 0.157\\nsamples = 479\\nvalue = [438, 41]'),\n",
              " Text(0.5799648506151143, 0.13636363636363635, 'x[1] <= 0.5\\ngini = 0.083\\nsamples = 231\\nvalue = [221, 10]'),\n",
              " Text(0.5776215582893967, 0.045454545454545456, 'gini = 0.408\\nsamples = 14\\nvalue = [10, 4]'),\n",
              " Text(0.5823081429408319, 0.045454545454545456, 'gini = 0.054\\nsamples = 217\\nvalue = [211, 6]'),\n",
              " Text(0.5893380199179847, 0.13636363636363635, 'x[1] <= 1.5\\ngini = 0.219\\nsamples = 248\\nvalue = [217, 31]'),\n",
              " Text(0.5869947275922671, 0.045454545454545456, 'gini = 0.035\\nsamples = 56\\nvalue = [55, 1]'),\n",
              " Text(0.5916813122437024, 0.045454545454545456, 'gini = 0.264\\nsamples = 192\\nvalue = [162, 30]'),\n",
              " Text(0.6033977738722905, 0.22727272727272727, 'x[12] <= 32.5\\ngini = 0.275\\nsamples = 334\\nvalue = [279, 55]'),\n",
              " Text(0.5987111892208553, 0.13636363636363635, 'x[10] <= 53.0\\ngini = 0.086\\nsamples = 67\\nvalue = [64, 3]'),\n",
              " Text(0.5963678968951377, 0.045454545454545456, 'gini = 0.059\\nsamples = 66\\nvalue = [64, 2]'),\n",
              " Text(0.6010544815465729, 0.045454545454545456, 'gini = 0.0\\nsamples = 1\\nvalue = [0, 1]'),\n",
              " Text(0.6080843585237259, 0.13636363636363635, 'x[0] <= 54.5\\ngini = 0.314\\nsamples = 267\\nvalue = [215, 52]'),\n",
              " Text(0.6057410661980082, 0.045454545454545456, 'gini = 0.303\\nsamples = 263\\nvalue = [214, 49]'),\n",
              " Text(0.6104276508494435, 0.045454545454545456, 'gini = 0.375\\nsamples = 4\\nvalue = [1, 3]'),\n",
              " Text(0.6280023432923257, 0.3181818181818182, 'x[10] <= 73.0\\ngini = 0.053\\nsamples = 5140\\nvalue = [4999, 141]'),\n",
              " Text(0.6221441124780316, 0.22727272727272727, 'x[6] <= 8.5\\ngini = 0.05\\nsamples = 5103\\nvalue = [4971, 132]'),\n",
              " Text(0.6174575278265964, 0.13636363636363635, 'x[6] <= 3.5\\ngini = 0.038\\nsamples = 3952\\nvalue = [3875, 77]'),\n",
              " Text(0.6151142355008787, 0.045454545454545456, 'gini = 0.063\\nsamples = 2131\\nvalue = [2062, 69]'),\n",
              " Text(0.619800820152314, 0.045454545454545456, 'gini = 0.009\\nsamples = 1821\\nvalue = [1813, 8]'),\n",
              " Text(0.6268306971294669, 0.13636363636363635, 'x[6] <= 10.5\\ngini = 0.091\\nsamples = 1151\\nvalue = [1096, 55]'),\n",
              " Text(0.6244874048037493, 0.045454545454545456, 'gini = 0.17\\nsamples = 351\\nvalue = [318, 33]'),\n",
              " Text(0.6291739894551845, 0.045454545454545456, 'gini = 0.053\\nsamples = 800\\nvalue = [778, 22]'),\n",
              " Text(0.6338605741066198, 0.22727272727272727, 'x[10] <= 74.5\\ngini = 0.368\\nsamples = 37\\nvalue = [28, 9]'),\n",
              " Text(0.6315172817809022, 0.13636363636363635, 'gini = 0.0\\nsamples = 6\\nvalue = [0, 6]'),\n",
              " Text(0.6362038664323374, 0.13636363636363635, 'x[10] <= 79.0\\ngini = 0.175\\nsamples = 31\\nvalue = [28, 3]'),\n",
              " Text(0.6338605741066198, 0.045454545454545456, 'gini = 0.48\\nsamples = 5\\nvalue = [3, 2]'),\n",
              " Text(0.6385471587580551, 0.045454545454545456, 'gini = 0.074\\nsamples = 26\\nvalue = [25, 1]'),\n",
              " Text(0.7070884592852958, 0.5, 'x[4] <= 11.5\\ngini = 0.178\\nsamples = 3469\\nvalue = [3126, 343]'),\n",
              " Text(0.6731107205623902, 0.4090909090909091, 'x[0] <= 16.5\\ngini = 0.118\\nsamples = 2636\\nvalue = [2470, 166]'),\n",
              " Text(0.658465143526655, 0.3181818181818182, 'x[12] <= 94.5\\ngini = 0.05\\nsamples = 1248\\nvalue = [1216, 32]'),\n",
              " Text(0.6502636203866432, 0.22727272727272727, 'x[2] <= 211.5\\ngini = 0.047\\nsamples = 1240\\nvalue = [1210, 30]'),\n",
              " Text(0.645577035735208, 0.13636363636363635, 'x[2] <= 149.0\\ngini = 0.346\\nsamples = 9\\nvalue = [7, 2]'),\n",
              " Text(0.6432337434094904, 0.045454545454545456, 'gini = 0.0\\nsamples = 6\\nvalue = [6, 0]'),\n",
              " Text(0.6479203280609256, 0.045454545454545456, 'gini = 0.444\\nsamples = 3\\nvalue = [1, 2]'),\n",
              " Text(0.6549502050380785, 0.13636363636363635, 'x[1] <= 2.5\\ngini = 0.044\\nsamples = 1231\\nvalue = [1203, 28]'),\n",
              " Text(0.6526069127123608, 0.045454545454545456, 'gini = 0.035\\nsamples = 1080\\nvalue = [1061, 19]'),\n",
              " Text(0.6572934973637962, 0.045454545454545456, 'gini = 0.112\\nsamples = 151\\nvalue = [142, 9]'),\n",
              " Text(0.6666666666666666, 0.22727272727272727, 'x[9] <= 0.5\\ngini = 0.375\\nsamples = 8\\nvalue = [6, 2]'),\n",
              " Text(0.664323374340949, 0.13636363636363635, 'x[0] <= 13.0\\ngini = 0.444\\nsamples = 3\\nvalue = [1, 2]'),\n",
              " Text(0.6619800820152314, 0.045454545454545456, 'gini = 0.0\\nsamples = 1\\nvalue = [1, 0]'),\n",
              " Text(0.6666666666666666, 0.045454545454545456, 'gini = 0.0\\nsamples = 2\\nvalue = [0, 2]'),\n",
              " Text(0.6690099589923842, 0.13636363636363635, 'gini = 0.0\\nsamples = 5\\nvalue = [5, 0]'),\n",
              " Text(0.6877562975981254, 0.3181818181818182, 'x[10] <= 72.5\\ngini = 0.174\\nsamples = 1388\\nvalue = [1254, 134]'),\n",
              " Text(0.6783831282952548, 0.22727272727272727, 'x[4] <= 8.5\\ngini = 0.167\\nsamples = 1366\\nvalue = [1240, 126]'),\n",
              " Text(0.6736965436438196, 0.13636363636363635, 'x[9] <= 0.5\\ngini = 0.126\\nsamples = 771\\nvalue = [719, 52]'),\n",
              " Text(0.671353251318102, 0.045454545454545456, 'gini = 0.063\\nsamples = 306\\nvalue = [296, 10]'),\n",
              " Text(0.6760398359695372, 0.045454545454545456, 'gini = 0.164\\nsamples = 465\\nvalue = [423, 42]'),\n",
              " Text(0.68306971294669, 0.13636363636363635, 'x[2] <= 25115.0\\ngini = 0.218\\nsamples = 595\\nvalue = [521, 74]'),\n",
              " Text(0.6807264206209724, 0.045454545454545456, 'gini = 0.208\\nsamples = 577\\nvalue = [509, 68]'),\n",
              " Text(0.6854130052724078, 0.045454545454545456, 'gini = 0.444\\nsamples = 18\\nvalue = [12, 6]'),\n",
              " Text(0.6971294669009959, 0.22727272727272727, 'x[10] <= 80.0\\ngini = 0.463\\nsamples = 22\\nvalue = [14, 8]'),\n",
              " Text(0.6924428822495606, 0.13636363636363635, 'x[12] <= 44.5\\ngini = 0.346\\nsamples = 9\\nvalue = [2, 7]'),\n",
              " Text(0.690099589923843, 0.045454545454545456, 'gini = 0.0\\nsamples = 2\\nvalue = [2, 0]'),\n",
              " Text(0.6947861745752782, 0.045454545454545456, 'gini = 0.0\\nsamples = 7\\nvalue = [0, 7]'),\n",
              " Text(0.7018160515524312, 0.13636363636363635, 'x[0] <= 58.0\\ngini = 0.142\\nsamples = 13\\nvalue = [12, 1]'),\n",
              " Text(0.6994727592267135, 0.045454545454545456, 'gini = 0.0\\nsamples = 12\\nvalue = [12, 0]'),\n",
              " Text(0.7041593438781488, 0.045454545454545456, 'gini = 0.0\\nsamples = 1\\nvalue = [0, 1]'),\n",
              " Text(0.7410661980082015, 0.4090909090909091, 'x[0] <= 10.5\\ngini = 0.335\\nsamples = 833\\nvalue = [656, 177]'),\n",
              " Text(0.7252489748096075, 0.3181818181818182, 'x[12] <= 56.5\\ngini = 0.053\\nsamples = 221\\nvalue = [215, 6]'),\n",
              " Text(0.715875805506737, 0.22727272727272727, 'x[1] <= 2.5\\ngini = 0.022\\nsamples = 176\\nvalue = [174, 2]'),\n",
              " Text(0.7111892208553017, 0.13636363636363635, 'x[0] <= 9.5\\ngini = 0.012\\nsamples = 163\\nvalue = [162, 1]'),\n",
              " Text(0.7088459285295841, 0.045454545454545456, 'gini = 0.0\\nsamples = 121\\nvalue = [121, 0]'),\n",
              " Text(0.7135325131810193, 0.045454545454545456, 'gini = 0.046\\nsamples = 42\\nvalue = [41, 1]'),\n",
              " Text(0.7205623901581723, 0.13636363636363635, 'x[12] <= 44.5\\ngini = 0.142\\nsamples = 13\\nvalue = [12, 1]'),\n",
              " Text(0.7182190978324546, 0.045454545454545456, 'gini = 0.444\\nsamples = 3\\nvalue = [2, 1]'),\n",
              " Text(0.7229056824838899, 0.045454545454545456, 'gini = 0.0\\nsamples = 10\\nvalue = [10, 0]'),\n",
              " Text(0.7346221441124781, 0.22727272727272727, 'x[6] <= 10.0\\ngini = 0.162\\nsamples = 45\\nvalue = [41, 4]'),\n",
              " Text(0.7299355594610427, 0.13636363636363635, 'x[7] <= 1.5\\ngini = 0.061\\nsamples = 32\\nvalue = [31, 1]'),\n",
              " Text(0.7275922671353251, 0.045454545454545456, 'gini = 0.0\\nsamples = 21\\nvalue = [21, 0]'),\n",
              " Text(0.7322788517867604, 0.045454545454545456, 'gini = 0.165\\nsamples = 11\\nvalue = [10, 1]'),\n",
              " Text(0.7393087287639133, 0.13636363636363635, 'x[0] <= 8.5\\ngini = 0.355\\nsamples = 13\\nvalue = [10, 3]'),\n",
              " Text(0.7369654364381957, 0.045454545454545456, 'gini = 0.18\\nsamples = 10\\nvalue = [9, 1]'),\n",
              " Text(0.7416520210896309, 0.045454545454545456, 'gini = 0.444\\nsamples = 3\\nvalue = [1, 2]'),\n",
              " Text(0.7568834212067955, 0.3181818181818182, 'x[6] <= 2.5\\ngini = 0.403\\nsamples = 612\\nvalue = [441, 171]'),\n",
              " Text(0.7510251903925015, 0.22727272727272727, 'x[12] <= 78.0\\ngini = 0.153\\nsamples = 60\\nvalue = [55, 5]'),\n",
              " Text(0.7486818980667839, 0.13636363636363635, 'x[2] <= 11193.5\\ngini = 0.126\\nsamples = 59\\nvalue = [55, 4]'),\n",
              " Text(0.7463386057410663, 0.045454545454545456, 'gini = 0.225\\nsamples = 31\\nvalue = [27, 4]'),\n",
              " Text(0.7510251903925015, 0.045454545454545456, 'gini = 0.0\\nsamples = 28\\nvalue = [28, 0]'),\n",
              " Text(0.7533684827182191, 0.13636363636363635, 'gini = 0.0\\nsamples = 1\\nvalue = [0, 1]'),\n",
              " Text(0.7627416520210897, 0.22727272727272727, 'x[0] <= 27.5\\ngini = 0.421\\nsamples = 552\\nvalue = [386, 166]'),\n",
              " Text(0.7580550673696543, 0.13636363636363635, 'x[2] <= 481.5\\ngini = 0.382\\nsamples = 404\\nvalue = [300, 104]'),\n",
              " Text(0.7557117750439367, 0.045454545454545456, 'gini = 0.444\\nsamples = 9\\nvalue = [3, 6]'),\n",
              " Text(0.760398359695372, 0.045454545454545456, 'gini = 0.373\\nsamples = 395\\nvalue = [297, 98]'),\n",
              " Text(0.7674282366725249, 0.13636363636363635, 'x[6] <= 11.5\\ngini = 0.487\\nsamples = 148\\nvalue = [86, 62]'),\n",
              " Text(0.7650849443468073, 0.045454545454545456, 'gini = 0.493\\nsamples = 141\\nvalue = [79, 62]'),\n",
              " Text(0.7697715289982425, 0.045454545454545456, 'gini = 0.0\\nsamples = 7\\nvalue = [7, 0]'),\n",
              " Text(0.7885178676039836, 0.5909090909090909, 'x[11] <= 78.5\\ngini = 0.495\\nsamples = 91\\nvalue = [41, 50]'),\n",
              " Text(0.7814879906268307, 0.5, 'x[11] <= 76.5\\ngini = 0.473\\nsamples = 52\\nvalue = [32, 20]'),\n",
              " Text(0.7791446983011131, 0.4090909090909091, 'x[11] <= 71.5\\ngini = 0.49\\nsamples = 35\\nvalue = [15, 20]'),\n",
              " Text(0.7768014059753954, 0.3181818181818182, 'gini = 0.0\\nsamples = 6\\nvalue = [0, 6]'),\n",
              " Text(0.7814879906268307, 0.3181818181818182, 'x[2] <= 22471.0\\ngini = 0.499\\nsamples = 29\\nvalue = [15, 14]'),\n",
              " Text(0.7791446983011131, 0.22727272727272727, 'x[1] <= 2.5\\ngini = 0.486\\nsamples = 24\\nvalue = [10, 14]'),\n",
              " Text(0.7768014059753954, 0.13636363636363635, 'x[4] <= 7.5\\ngini = 0.444\\nsamples = 21\\nvalue = [7, 14]'),\n",
              " Text(0.7744581136496778, 0.045454545454545456, 'gini = 0.0\\nsamples = 2\\nvalue = [2, 0]'),\n",
              " Text(0.7791446983011131, 0.045454545454545456, 'gini = 0.388\\nsamples = 19\\nvalue = [5, 14]'),\n",
              " Text(0.7814879906268307, 0.13636363636363635, 'gini = 0.0\\nsamples = 3\\nvalue = [3, 0]'),\n",
              " Text(0.7838312829525483, 0.22727272727272727, 'gini = 0.0\\nsamples = 5\\nvalue = [5, 0]'),\n",
              " Text(0.7838312829525483, 0.4090909090909091, 'gini = 0.0\\nsamples = 17\\nvalue = [17, 0]'),\n",
              " Text(0.7955477445811365, 0.5, 'x[11] <= 91.5\\ngini = 0.355\\nsamples = 39\\nvalue = [9, 30]'),\n",
              " Text(0.7932044522554189, 0.4090909090909091, 'x[2] <= 3205.5\\ngini = 0.062\\nsamples = 31\\nvalue = [1, 30]'),\n",
              " Text(0.7908611599297012, 0.3181818181818182, 'x[12] <= 40.0\\ngini = 0.375\\nsamples = 4\\nvalue = [1, 3]'),\n",
              " Text(0.7885178676039836, 0.22727272727272727, 'gini = 0.0\\nsamples = 3\\nvalue = [0, 3]'),\n",
              " Text(0.7932044522554189, 0.22727272727272727, 'gini = 0.0\\nsamples = 1\\nvalue = [1, 0]'),\n",
              " Text(0.7955477445811365, 0.3181818181818182, 'gini = 0.0\\nsamples = 27\\nvalue = [0, 27]'),\n",
              " Text(0.7978910369068541, 0.4090909090909091, 'gini = 0.0\\nsamples = 8\\nvalue = [8, 0]'),\n",
              " Text(0.8821031048623316, 0.6818181818181818, 'x[12] <= 42.5\\ngini = 0.397\\nsamples = 1057\\nvalue = [768, 289]'),\n",
              " Text(0.8295254833040422, 0.5909090909090909, 'x[11] <= 79.5\\ngini = 0.304\\nsamples = 626\\nvalue = [509, 117]'),\n",
              " Text(0.8271821909783246, 0.5, 'x[0] <= 17.5\\ngini = 0.289\\nsamples = 617\\nvalue = [509, 108]'),\n",
              " Text(0.8084358523725835, 0.4090909090909091, 'x[10] <= 73.0\\ngini = 0.125\\nsamples = 194\\nvalue = [181, 13]'),\n",
              " Text(0.8025776215582894, 0.3181818181818182, 'x[2] <= 428.5\\ngini = 0.109\\nsamples = 191\\nvalue = [180, 11]'),\n",
              " Text(0.7978910369068541, 0.22727272727272727, 'x[9] <= 0.5\\ngini = 0.5\\nsamples = 2\\nvalue = [1, 1]'),\n",
              " Text(0.7955477445811365, 0.13636363636363635, 'gini = 0.0\\nsamples = 1\\nvalue = [1, 0]'),\n",
              " Text(0.8002343292325718, 0.13636363636363635, 'gini = 0.0\\nsamples = 1\\nvalue = [0, 1]'),\n",
              " Text(0.8072642062097246, 0.22727272727272727, 'x[12] <= 38.0\\ngini = 0.1\\nsamples = 189\\nvalue = [179, 10]'),\n",
              " Text(0.804920913884007, 0.13636363636363635, 'gini = 0.0\\nsamples = 61\\nvalue = [61, 0]'),\n",
              " Text(0.8096074985354423, 0.13636363636363635, 'x[0] <= 13.5\\ngini = 0.144\\nsamples = 128\\nvalue = [118, 10]'),\n",
              " Text(0.8072642062097246, 0.045454545454545456, 'gini = 0.086\\nsamples = 89\\nvalue = [85, 4]'),\n",
              " Text(0.81195079086116, 0.045454545454545456, 'gini = 0.26\\nsamples = 39\\nvalue = [33, 6]'),\n",
              " Text(0.8142940831868776, 0.3181818181818182, 'x[1] <= 2.0\\ngini = 0.444\\nsamples = 3\\nvalue = [1, 2]'),\n",
              " Text(0.81195079086116, 0.22727272727272727, 'gini = 0.0\\nsamples = 1\\nvalue = [1, 0]'),\n",
              " Text(0.8166373755125952, 0.22727272727272727, 'gini = 0.0\\nsamples = 2\\nvalue = [0, 2]'),\n",
              " Text(0.8459285295840656, 0.4090909090909091, 'x[9] <= 0.5\\ngini = 0.348\\nsamples = 423\\nvalue = [328, 95]'),\n",
              " Text(0.8318687756297598, 0.3181818181818182, 'x[1] <= 2.5\\ngini = 0.267\\nsamples = 277\\nvalue = [233, 44]'),\n",
              " Text(0.8236672524897481, 0.22727272727272727, 'x[2] <= 24164.0\\ngini = 0.318\\nsamples = 212\\nvalue = [170, 42]'),\n",
              " Text(0.8189806678383128, 0.13636363636363635, 'x[7] <= 1.5\\ngini = 0.299\\nsamples = 202\\nvalue = [165, 37]'),\n",
              " Text(0.8166373755125952, 0.045454545454545456, 'gini = 0.356\\nsamples = 121\\nvalue = [93, 28]'),\n",
              " Text(0.8213239601640304, 0.045454545454545456, 'gini = 0.198\\nsamples = 81\\nvalue = [72, 9]'),\n",
              " Text(0.8283538371411834, 0.13636363636363635, 'x[0] <= 37.0\\ngini = 0.5\\nsamples = 10\\nvalue = [5, 5]'),\n",
              " Text(0.8260105448154658, 0.045454545454545456, 'gini = 0.469\\nsamples = 8\\nvalue = [5, 3]'),\n",
              " Text(0.830697129466901, 0.045454545454545456, 'gini = 0.0\\nsamples = 2\\nvalue = [0, 2]'),\n",
              " Text(0.8400702987697716, 0.22727272727272727, 'x[3] <= 2.0\\ngini = 0.06\\nsamples = 65\\nvalue = [63, 2]'),\n",
              " Text(0.8377270064440538, 0.13636363636363635, 'x[13] <= 21.5\\ngini = 0.298\\nsamples = 11\\nvalue = [9, 2]'),\n",
              " Text(0.8353837141183362, 0.045454545454545456, 'gini = 0.5\\nsamples = 2\\nvalue = [1, 1]'),\n",
              " Text(0.8400702987697716, 0.045454545454545456, 'gini = 0.198\\nsamples = 9\\nvalue = [8, 1]'),\n",
              " Text(0.8424135910954892, 0.13636363636363635, 'gini = 0.0\\nsamples = 54\\nvalue = [54, 0]'),\n",
              " Text(0.8599882835383714, 0.3181818181818182, 'x[4] <= 13.5\\ngini = 0.455\\nsamples = 146\\nvalue = [95, 51]'),\n",
              " Text(0.8517867603983597, 0.22727272727272727, 'x[12] <= 30.0\\ngini = 0.412\\nsamples = 107\\nvalue = [76, 31]'),\n",
              " Text(0.8471001757469244, 0.13636363636363635, 'x[7] <= 2.5\\ngini = 0.117\\nsamples = 16\\nvalue = [15, 1]'),\n",
              " Text(0.8447568834212068, 0.045454545454545456, 'gini = 0.0\\nsamples = 15\\nvalue = [15, 0]'),\n",
              " Text(0.849443468072642, 0.045454545454545456, 'gini = 0.0\\nsamples = 1\\nvalue = [0, 1]'),\n",
              " Text(0.856473345049795, 0.13636363636363635, 'x[0] <= 33.5\\ngini = 0.442\\nsamples = 91\\nvalue = [61, 30]'),\n",
              " Text(0.8541300527240774, 0.045454545454545456, 'gini = 0.371\\nsamples = 69\\nvalue = [52, 17]'),\n",
              " Text(0.8588166373755126, 0.045454545454545456, 'gini = 0.483\\nsamples = 22\\nvalue = [9, 13]'),\n",
              " Text(0.8681898066783831, 0.22727272727272727, 'x[11] <= 7.5\\ngini = 0.5\\nsamples = 39\\nvalue = [19, 20]'),\n",
              " Text(0.8658465143526655, 0.13636363636363635, 'x[2] <= 22997.0\\ngini = 0.49\\nsamples = 35\\nvalue = [15, 20]'),\n",
              " Text(0.8635032220269478, 0.045454545454545456, 'gini = 0.499\\nsamples = 31\\nvalue = [15, 16]'),\n",
              " Text(0.8681898066783831, 0.045454545454545456, 'gini = 0.0\\nsamples = 4\\nvalue = [0, 4]'),\n",
              " Text(0.8705330990041008, 0.13636363636363635, 'gini = 0.0\\nsamples = 4\\nvalue = [4, 0]'),\n",
              " Text(0.8318687756297598, 0.5, 'gini = 0.0\\nsamples = 9\\nvalue = [0, 9]'),\n",
              " Text(0.9346807264206209, 0.5909090909090909, 'x[4] <= 13.5\\ngini = 0.48\\nsamples = 431\\nvalue = [259, 172]'),\n",
              " Text(0.9021675454012889, 0.5, 'x[6] <= 3.5\\ngini = 0.432\\nsamples = 298\\nvalue = [204, 94]'),\n",
              " Text(0.8840070298769771, 0.4090909090909091, 'x[0] <= 13.0\\ngini = 0.5\\nsamples = 104\\nvalue = [51, 53]'),\n",
              " Text(0.875219683655536, 0.3181818181818182, 'x[2] <= 17250.5\\ngini = 0.124\\nsamples = 15\\nvalue = [14, 1]'),\n",
              " Text(0.8728763913298184, 0.22727272727272727, 'gini = 0.0\\nsamples = 12\\nvalue = [12, 0]'),\n",
              " Text(0.8775629759812537, 0.22727272727272727, 'x[9] <= 0.5\\ngini = 0.444\\nsamples = 3\\nvalue = [2, 1]'),\n",
              " Text(0.875219683655536, 0.13636363636363635, 'gini = 0.0\\nsamples = 1\\nvalue = [0, 1]'),\n",
              " Text(0.8799062683069713, 0.13636363636363635, 'gini = 0.0\\nsamples = 2\\nvalue = [2, 0]'),\n",
              " Text(0.8927943760984183, 0.3181818181818182, 'x[9] <= 0.5\\ngini = 0.486\\nsamples = 89\\nvalue = [37, 52]'),\n",
              " Text(0.8869361452841242, 0.22727272727272727, 'x[10] <= 37.0\\ngini = 0.5\\nsamples = 43\\nvalue = [22, 21]'),\n",
              " Text(0.8845928529584065, 0.13636363636363635, 'x[11] <= 1.0\\ngini = 0.495\\nsamples = 40\\nvalue = [22, 18]'),\n",
              " Text(0.8822495606326889, 0.045454545454545456, 'gini = 0.5\\nsamples = 37\\nvalue = [19, 18]'),\n",
              " Text(0.8869361452841242, 0.045454545454545456, 'gini = 0.0\\nsamples = 3\\nvalue = [3, 0]'),\n",
              " Text(0.8892794376098418, 0.13636363636363635, 'gini = 0.0\\nsamples = 3\\nvalue = [0, 3]'),\n",
              " Text(0.8986526069127123, 0.22727272727272727, 'x[1] <= 3.5\\ngini = 0.44\\nsamples = 46\\nvalue = [15, 31]'),\n",
              " Text(0.8939660222612771, 0.13636363636363635, 'x[6] <= 1.0\\ngini = 0.361\\nsamples = 38\\nvalue = [9, 29]'),\n",
              " Text(0.8916227299355595, 0.045454545454545456, 'gini = 0.0\\nsamples = 2\\nvalue = [2, 0]'),\n",
              " Text(0.8963093145869947, 0.045454545454545456, 'gini = 0.313\\nsamples = 36\\nvalue = [7, 29]'),\n",
              " Text(0.9033391915641477, 0.13636363636363635, 'x[6] <= 1.0\\ngini = 0.375\\nsamples = 8\\nvalue = [6, 2]'),\n",
              " Text(0.90099589923843, 0.045454545454545456, 'gini = 0.0\\nsamples = 1\\nvalue = [0, 1]'),\n",
              " Text(0.9056824838898653, 0.045454545454545456, 'gini = 0.245\\nsamples = 7\\nvalue = [6, 1]'),\n",
              " Text(0.9203280609256005, 0.4090909090909091, 'x[9] <= 0.5\\ngini = 0.333\\nsamples = 194\\nvalue = [153, 41]'),\n",
              " Text(0.9080257762155829, 0.3181818181818182, 'x[5] <= 1.5\\ngini = 0.207\\nsamples = 94\\nvalue = [83, 11]'),\n",
              " Text(0.9056824838898653, 0.22727272727272727, 'gini = 0.0\\nsamples = 1\\nvalue = [0, 1]'),\n",
              " Text(0.9103690685413005, 0.22727272727272727, 'x[2] <= 8617.0\\ngini = 0.192\\nsamples = 93\\nvalue = [83, 10]'),\n",
              " Text(0.9080257762155829, 0.13636363636363635, 'gini = 0.0\\nsamples = 28\\nvalue = [28, 0]'),\n",
              " Text(0.9127123608670181, 0.13636363636363635, 'x[2] <= 10299.5\\ngini = 0.26\\nsamples = 65\\nvalue = [55, 10]'),\n",
              " Text(0.9103690685413005, 0.045454545454545456, 'gini = 0.444\\nsamples = 6\\nvalue = [2, 4]'),\n",
              " Text(0.9150556531927357, 0.045454545454545456, 'gini = 0.183\\nsamples = 59\\nvalue = [53, 6]'),\n",
              " Text(0.9326303456356181, 0.3181818181818182, 'x[2] <= 5502.0\\ngini = 0.42\\nsamples = 100\\nvalue = [70, 30]'),\n",
              " Text(0.9267721148213239, 0.22727272727272727, 'x[7] <= 3.5\\ngini = 0.264\\nsamples = 32\\nvalue = [27, 5]'),\n",
              " Text(0.9220855301698887, 0.13636363636363635, 'x[2] <= 4336.0\\ngini = 0.231\\nsamples = 30\\nvalue = [26, 4]'),\n",
              " Text(0.9197422378441711, 0.045454545454545456, 'gini = 0.287\\nsamples = 23\\nvalue = [19, 4]'),\n",
              " Text(0.9244288224956063, 0.045454545454545456, 'gini = 0.0\\nsamples = 7\\nvalue = [7, 0]'),\n",
              " Text(0.9314586994727593, 0.13636363636363635, 'x[5] <= 2.5\\ngini = 0.5\\nsamples = 2\\nvalue = [1, 1]'),\n",
              " Text(0.9291154071470415, 0.045454545454545456, 'gini = 0.0\\nsamples = 1\\nvalue = [1, 0]'),\n",
              " Text(0.9338019917984769, 0.045454545454545456, 'gini = 0.0\\nsamples = 1\\nvalue = [0, 1]'),\n",
              " Text(0.9384885764499121, 0.22727272727272727, 'x[2] <= 6450.0\\ngini = 0.465\\nsamples = 68\\nvalue = [43, 25]'),\n",
              " Text(0.9361452841241945, 0.13636363636363635, 'gini = 0.0\\nsamples = 5\\nvalue = [0, 5]'),\n",
              " Text(0.9408318687756297, 0.13636363636363635, 'x[0] <= 35.5\\ngini = 0.433\\nsamples = 63\\nvalue = [43, 20]'),\n",
              " Text(0.9384885764499121, 0.045454545454545456, 'gini = 0.466\\nsamples = 54\\nvalue = [34, 20]'),\n",
              " Text(0.9431751611013474, 0.045454545454545456, 'gini = 0.0\\nsamples = 9\\nvalue = [9, 0]'),\n",
              " Text(0.9671939074399531, 0.5, 'x[0] <= 15.5\\ngini = 0.485\\nsamples = 133\\nvalue = [55, 78]'),\n",
              " Text(0.9595782073813708, 0.4090909090909091, 'x[2] <= 25221.0\\ngini = 0.36\\nsamples = 34\\nvalue = [26, 8]'),\n",
              " Text(0.9572349150556532, 0.3181818181818182, 'x[12] <= 66.5\\ngini = 0.305\\nsamples = 32\\nvalue = [26, 6]'),\n",
              " Text(0.9548916227299356, 0.22727272727272727, 'x[12] <= 56.5\\ngini = 0.397\\nsamples = 22\\nvalue = [16, 6]'),\n",
              " Text(0.9502050380785003, 0.13636363636363635, 'x[2] <= 3031.0\\ngini = 0.332\\nsamples = 19\\nvalue = [15, 4]'),\n",
              " Text(0.9478617457527827, 0.045454545454545456, 'gini = 0.0\\nsamples = 4\\nvalue = [4, 0]'),\n",
              " Text(0.9525483304042179, 0.045454545454545456, 'gini = 0.391\\nsamples = 15\\nvalue = [11, 4]'),\n",
              " Text(0.9595782073813708, 0.13636363636363635, 'x[0] <= 9.0\\ngini = 0.444\\nsamples = 3\\nvalue = [1, 2]'),\n",
              " Text(0.9572349150556532, 0.045454545454545456, 'gini = 0.0\\nsamples = 1\\nvalue = [1, 0]'),\n",
              " Text(0.9619214997070885, 0.045454545454545456, 'gini = 0.0\\nsamples = 2\\nvalue = [0, 2]'),\n",
              " Text(0.9595782073813708, 0.22727272727272727, 'gini = 0.0\\nsamples = 10\\nvalue = [10, 0]'),\n",
              " Text(0.9619214997070885, 0.3181818181818182, 'gini = 0.0\\nsamples = 2\\nvalue = [0, 2]'),\n",
              " Text(0.9748096074985354, 0.4090909090909091, 'x[11] <= 11.5\\ngini = 0.414\\nsamples = 99\\nvalue = [29, 70]'),\n",
              " Text(0.9724663151728178, 0.3181818181818182, 'x[2] <= 1219.0\\ngini = 0.45\\nsamples = 85\\nvalue = [29, 56]'),\n",
              " Text(0.9666080843585237, 0.22727272727272727, 'x[5] <= 2.5\\ngini = 0.32\\nsamples = 5\\nvalue = [4, 1]'),\n",
              " Text(0.9642647920328061, 0.13636363636363635, 'gini = 0.0\\nsamples = 4\\nvalue = [4, 0]'),\n",
              " Text(0.9689513766842414, 0.13636363636363635, 'gini = 0.0\\nsamples = 1\\nvalue = [0, 1]'),\n",
              " Text(0.9783245459871119, 0.22727272727272727, 'x[12] <= 50.0\\ngini = 0.43\\nsamples = 80\\nvalue = [25, 55]'),\n",
              " Text(0.9736379613356766, 0.13636363636363635, 'x[0] <= 18.0\\ngini = 0.485\\nsamples = 41\\nvalue = [17, 24]'),\n",
              " Text(0.971294669009959, 0.045454545454545456, 'gini = 0.0\\nsamples = 4\\nvalue = [0, 4]'),\n",
              " Text(0.9759812536613942, 0.045454545454545456, 'gini = 0.497\\nsamples = 37\\nvalue = [17, 20]'),\n",
              " Text(0.9830111306385472, 0.13636363636363635, 'x[12] <= 82.5\\ngini = 0.326\\nsamples = 39\\nvalue = [8, 31]'),\n",
              " Text(0.9806678383128296, 0.045454545454545456, 'gini = 0.245\\nsamples = 35\\nvalue = [5, 30]'),\n",
              " Text(0.9853544229642648, 0.045454545454545456, 'gini = 0.375\\nsamples = 4\\nvalue = [3, 1]'),\n",
              " Text(0.9771528998242531, 0.3181818181818182, 'gini = 0.0\\nsamples = 14\\nvalue = [0, 14]'),\n",
              " Text(0.9800820152314001, 0.7727272727272727, 'x[10] <= 98.5\\ngini = 0.069\\nsamples = 363\\nvalue = [13, 350]'),\n",
              " Text(0.9718804920913884, 0.6818181818181818, 'x[10] <= 94.5\\ngini = 0.461\\nsamples = 25\\nvalue = [9, 16]'),\n",
              " Text(0.9695371997656708, 0.5909090909090909, 'gini = 0.0\\nsamples = 14\\nvalue = [0, 14]'),\n",
              " Text(0.974223784417106, 0.5909090909090909, 'x[12] <= 46.5\\ngini = 0.298\\nsamples = 11\\nvalue = [9, 2]'),\n",
              " Text(0.9718804920913884, 0.5, 'gini = 0.0\\nsamples = 9\\nvalue = [9, 0]'),\n",
              " Text(0.9765670767428236, 0.5, 'gini = 0.0\\nsamples = 2\\nvalue = [0, 2]'),\n",
              " Text(0.9882835383714118, 0.6818181818181818, 'x[0] <= 3.0\\ngini = 0.023\\nsamples = 338\\nvalue = [4, 334]'),\n",
              " Text(0.9835969537199766, 0.5909090909090909, 'x[4] <= 8.5\\ngini = 0.375\\nsamples = 4\\nvalue = [3, 1]'),\n",
              " Text(0.981253661394259, 0.5, 'gini = 0.0\\nsamples = 3\\nvalue = [3, 0]'),\n",
              " Text(0.9859402460456942, 0.5, 'gini = 0.0\\nsamples = 1\\nvalue = [0, 1]'),\n",
              " Text(0.9929701230228472, 0.5909090909090909, 'x[10] <= 117.5\\ngini = 0.006\\nsamples = 334\\nvalue = [1, 333]'),\n",
              " Text(0.9906268306971294, 0.5, 'gini = 0.0\\nsamples = 295\\nvalue = [0, 295]'),\n",
              " Text(0.9953134153485648, 0.5, 'x[10] <= 119.0\\ngini = 0.05\\nsamples = 39\\nvalue = [1, 38]'),\n",
              " Text(0.9929701230228472, 0.4090909090909091, 'gini = 0.0\\nsamples = 1\\nvalue = [1, 0]'),\n",
              " Text(0.9976567076742824, 0.4090909090909091, 'gini = 0.0\\nsamples = 38\\nvalue = [0, 38]')]"
            ]
          },
          "metadata": {},
          "execution_count": 27
        },
        {
          "output_type": "display_data",
          "data": {
            "text/plain": [
              "<Figure size 640x480 with 1 Axes>"
            ],
            "image/png": "[encoded data removed]"
          },
          "metadata": {}
        }
      ],
      "source": [
        "tree.plot_tree(model1)"
      ]
    },
    {
      "cell_type": "markdown",
      "metadata": {
        "id": "S5iQKT0jCER1"
      },
      "source": [
        "# Random Forest"
      ]
    },
    {
      "cell_type": "code",
      "execution_count": null,
      "metadata": {
        "id": "FUhdEwMTCER1"
      },
      "outputs": [],
      "source": [
        "rfc = RandomForestClassifier()\n",
        "model2 = rfc.fit(X_train, y_train)\n",
        "pred2 = model2.predict(X_test)"
      ]
    },
    {
      "cell_type": "code",
      "execution_count": null,
      "metadata": {
        "colab": {
          "base_uri": "https://localhost:8080/"
        },
        "id": "KBb_cSiLCER2",
        "outputId": "aa64ce66-6284-4524-dbfa-c9a9b349fbd9"
      },
      "outputs": [
        {
          "output_type": "execute_result",
          "data": {
            "text/plain": [
              "0.857048"
            ]
          },
          "metadata": {},
          "execution_count": 29
        }
      ],
      "source": [
        "round(rfc.score(X_test,y_test),6)"
      ]
    },
    {
      "cell_type": "code",
      "execution_count": null,
      "metadata": {
        "colab": {
          "base_uri": "https://localhost:8080/"
        },
        "id": "11wKbd3kCER2",
        "outputId": "a052a24a-3f5d-48e6-cb50-2642ea598805"
      },
      "outputs": [
        {
          "output_type": "execute_result",
          "data": {
            "text/plain": [
              "array([[6344,  489],\n",
              "       [ 804, 1408]])"
            ]
          },
          "metadata": {},
          "execution_count": 30
        }
      ],
      "source": [
        "cm1 = confusion_matrix(y_test,pred2)\n",
        "cm1"
      ]
    },
    {
      "cell_type": "code",
      "execution_count": null,
      "metadata": {
        "colab": {
          "base_uri": "https://localhost:8080/",
          "height": 482
        },
        "id": "fok8EgvyCER3",
        "outputId": "13099805-eea4-4c7d-cd6a-9c41cbe3dd31"
      },
      "outputs": [
        {
          "output_type": "execute_result",
          "data": {
            "text/plain": [
              "Text(58.222222222222214, 0.5, 'Truth')"
            ]
          },
          "metadata": {},
          "execution_count": 31
        },
        {
          "output_type": "display_data",
          "data": {
            "text/plain": [
              "<Figure size 700x500 with 2 Axes>"
            ],
            "image/png": "[encoded data removed]"
          },
          "metadata": {}
        }
      ],
      "source": [
        "plt.figure(figsize=(7,5))\n",
        "sn.heatmap(cm1, annot=True)\n",
        "plt.xlabel('Predicted')\n",
        "plt.ylabel('Truth')"
      ]
    },
    {
      "cell_type": "markdown",
      "metadata": {
        "id": "O1bcx9BSCER3"
      },
      "source": [
        "# KNN"
      ]
    },
    {
      "cell_type": "code",
      "execution_count": null,
      "metadata": {
        "id": "qcqSsV9uCER3"
      },
      "outputs": [],
      "source": [
        "knn = KNeighborsClassifier()\n",
        "model3 = knn.fit(X_train, y_train)\n",
        "pred3 = model3.predict(X_test)"
      ]
    },
    {
      "cell_type": "code",
      "execution_count": null,
      "metadata": {
        "colab": {
          "base_uri": "https://localhost:8080/"
        },
        "id": "yldlap9LCER4",
        "outputId": "d4fc620e-c8d4-4818-d237-b7d9ef2220a6"
      },
      "outputs": [
        {
          "output_type": "execute_result",
          "data": {
            "text/plain": [
              "0.77037"
            ]
          },
          "metadata": {},
          "execution_count": 33
        }
      ],
      "source": [
        "round(knn.score(X_test,y_test),6)"
      ]
    },
    {
      "cell_type": "code",
      "execution_count": null,
      "metadata": {
        "colab": {
          "base_uri": "https://localhost:8080/"
        },
        "id": "RNTqRhJ9CER4",
        "outputId": "61c9a8ae-701b-4394-ec03-74e2aaf9b201"
      },
      "outputs": [
        {
          "output_type": "execute_result",
          "data": {
            "text/plain": [
              "array([[6130,  703],\n",
              "       [1374,  838]])"
            ]
          },
          "metadata": {},
          "execution_count": 34
        }
      ],
      "source": [
        "cm2 = confusion_matrix(y_test,pred3)\n",
        "cm2"
      ]
    },
    {
      "cell_type": "code",
      "execution_count": null,
      "metadata": {
        "colab": {
          "base_uri": "https://localhost:8080/",
          "height": 482
        },
        "id": "8L--QH-4CER4",
        "outputId": "3aaa33f9-07fa-4901-91c6-882552a32cd2"
      },
      "outputs": [
        {
          "output_type": "execute_result",
          "data": {
            "text/plain": [
              "Text(58.222222222222214, 0.5, 'Truth')"
            ]
          },
          "metadata": {},
          "execution_count": 35
        },
        {
          "output_type": "display_data",
          "data": {
            "text/plain": [
              "<Figure size 700x500 with 2 Axes>"
            ],
            "image/png": "[encoded data removed]"
          },
          "metadata": {}
        }
      ],
      "source": [
        "plt.figure(figsize=(7,5))\n",
        "sn.heatmap(cm2, annot=True)\n",
        "plt.xlabel('Predicted')\n",
        "plt.ylabel('Truth')"
      ]
    },
    {
      "cell_type": "markdown",
      "metadata": {
        "id": "eYJypDWzCER5"
      },
      "source": [
        "# kmeans"
      ]
    },
    {
      "cell_type": "code",
      "source": [
        "newdf=X_train[['hours-per-week','age']]"
      ],
      "metadata": {
        "id": "Jp8xQ29-JA8j"
      },
      "execution_count": 180,
      "outputs": []
    },
    {
      "cell_type": "code",
      "source": [
        "km = KMeans(n_clusters=2)\n",
        "yp = km.fit_predict(newdf)\n",
        "yp"
      ],
      "metadata": {
        "colab": {
          "base_uri": "https://localhost:8080/"
        },
        "id": "YV6hPT_tE90p",
        "outputId": "73085b3c-fb01-4c76-8eb0-978333493b1d"
      },
      "execution_count": 181,
      "outputs": [
        {
          "output_type": "execute_result",
          "data": {
            "text/plain": [
              "array([1, 1, 1, ..., 1, 0, 1], dtype=int32)"
            ]
          },
          "metadata": {},
          "execution_count": 181
        }
      ]
    },
    {
      "cell_type": "code",
      "source": [
        "newdf[\"predicted\"]=yp"
      ],
      "metadata": {
        "id": "pqqEqUzcLt6l"
      },
      "execution_count": 182,
      "outputs": []
    },
    {
      "cell_type": "code",
      "source": [
        "df1 = newdf[newdf.predicted==0]\n",
        "df2 = newdf[newdf.predicted==1]"
      ],
      "metadata": {
        "id": "ISrySir9Kv5t"
      },
      "execution_count": 183,
      "outputs": []
    },
    {
      "cell_type": "code",
      "source": [
        "plt.scatter(df1['age'],df1['hours-per-week'],color='blue')\n",
        "plt.scatter(df2['age'],df2['hours-per-week'],color='green')"
      ],
      "metadata": {
        "colab": {
          "base_uri": "https://localhost:8080/",
          "height": 447
        },
        "id": "bL7tafRdJlMo",
        "outputId": "26563ae9-be8d-48fe-dd88-77ac80fd74e1"
      },
      "execution_count": 184,
      "outputs": [
        {
          "output_type": "execute_result",
          "data": {
            "text/plain": [
              "<matplotlib.collections.PathCollection at 0x7920e2fa4e80>"
            ]
          },
          "metadata": {},
          "execution_count": 184
        },
        {
          "output_type": "display_data",
          "data": {
            "text/plain": [
              "<Figure size 640x480 with 1 Axes>"
            ],
            "image/png": "[encoded data removed]"
          },
          "metadata": {}
        }
      ]
    },
    {
      "cell_type": "code",
      "source": [
        "sse = []\n",
        "k_rng = range(1,10)\n",
        "for k in k_rng:\n",
        "    km = KMeans(n_clusters=k)\n",
        "    km.fit(newdf)\n",
        "    sse.append(km.inertia_)"
      ],
      "metadata": {
        "id": "2V5s2uWZFO6Q"
      },
      "execution_count": 185,
      "outputs": []
    },
    {
      "cell_type": "code",
      "source": [
        "plt.xlabel('K')\n",
        "plt.ylabel('Sum of squared error')\n",
        "plt.plot(k_rng,sse)"
      ],
      "metadata": {
        "colab": {
          "base_uri": "https://localhost:8080/",
          "height": 482
        },
        "id": "yvn4b7hmFvyr",
        "outputId": "582c518c-7c8c-4a1f-b6bd-af1747625606"
      },
      "execution_count": 186,
      "outputs": [
        {
          "output_type": "execute_result",
          "data": {
            "text/plain": [
              "[<matplotlib.lines.Line2D at 0x7920e2e244f0>]"
            ]
          },
          "metadata": {},
          "execution_count": 186
        },
        {
          "output_type": "display_data",
          "data": {
            "text/plain": [
              "<Figure size 640x480 with 1 Axes>"
            ],
            "image/png": "[encoded data removed]"
          },
          "metadata": {}
        }
      ]
    },
    {
      "cell_type": "markdown",
      "metadata": {
        "id": "-fS6RwViCER7"
      },
      "source": [
        "# svc"
      ]
    },
    {
      "cell_type": "code",
      "execution_count": null,
      "metadata": {
        "id": "Syz8L9TtCER7"
      },
      "outputs": [],
      "source": [
        "svc = SVC()\n",
        "model5 = svc.fit(X_train,y_train)\n",
        "pred5 = model5.predict(X_test)"
      ]
    },
    {
      "cell_type": "code",
      "execution_count": null,
      "metadata": {
        "colab": {
          "base_uri": "https://localhost:8080/"
        },
        "id": "wU5rI_DMCER7",
        "outputId": "76dfde47-3bb4-40e2-f077-d126e6c6daad"
      },
      "outputs": [
        {
          "output_type": "execute_result",
          "data": {
            "text/plain": [
              "0.755445"
            ]
          },
          "metadata": {},
          "execution_count": 37
        }
      ],
      "source": [
        "round(svc.score(X_test,y_test),6)"
      ]
    },
    {
      "cell_type": "code",
      "source": [],
      "metadata": {
        "id": "X6msrlv7DX7d"
      },
      "execution_count": null,
      "outputs": []
    }
  ],
  "metadata": {
    "kernelspec": {
      "display_name": "Python 3 (ipykernel)",
      "language": "python",
      "name": "python3"
    },
    "language_info": {
      "codemirror_mode": {
        "name": "ipython",
        "version": 3
      },
      "file_extension": ".py",
      "mimetype": "text/x-python",
      "name": "python",
      "nbconvert_exporter": "python",
      "pygments_lexer": "ipython3",
      "version": "3.11.5"
    },
    "colab": {
      "provenance": []
    }
  },
  "nbformat": 4,
  "nbformat_minor": 0
}